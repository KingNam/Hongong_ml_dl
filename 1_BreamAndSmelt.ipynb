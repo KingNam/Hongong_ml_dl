{
  "nbformat": 4,
  "nbformat_minor": 0,
  "metadata": {
    "colab": {
      "name": "1.BreamAndSmelt.ipynb",
      "provenance": [],
      "collapsed_sections": [],
      "authorship_tag": "ABX9TyN6iz8PBAnTBmDnR3zlUDwB",
      "include_colab_link": true
    },
    "kernelspec": {
      "name": "python3",
      "display_name": "Python 3"
    },
    "language_info": {
      "name": "python"
    }
  },
  "cells": [
    {
      "cell_type": "markdown",
      "metadata": {
        "id": "view-in-github",
        "colab_type": "text"
      },
      "source": [
        "<a href=\"https://colab.research.google.com/github/KingNam/Hongong_ml_dl/blob/main/1_BreamAndSmelt.ipynb\" target=\"_parent\"><img src=\"https://colab.research.google.com/assets/colab-badge.svg\" alt=\"Open In Colab\"/></a>"
      ]
    },
    {
      "cell_type": "markdown",
      "metadata": {
        "id": "-Q3WS1eLnjE1"
      },
      "source": [
        "<h1> 도미의 길이와 무게 <h1/>\n",
        "\n",
        "![도미](https://mk0dynamitebaitfu5f6.kinstacdn.com/wp-content/uploads/2018/02/26756949_1154017768067672_4053728416750834960_o.jpg)"
      ]
    },
    {
      "cell_type": "code",
      "metadata": {
        "id": "lH89tl4ZmjTn"
      },
      "source": [
        "bream_length = [25.4, 26.3, 26.5, 29.0, 29.0, 29.7, 29.7, 30.0, 30.0, 30.7, 31.0, 31.0, \n",
        "                31.5, 32.0, 32.0, 32.0, 33.0, 33.0, 33.5, 33.5, 34.0, 34.0, 34.5, 35.0, \n",
        "                35.0, 35.0, 35.0, 36.0, 36.0, 37.0, 38.5, 38.5, 39.5, 41.0, 41.0]\n",
        "bream_weight = [242.0, 290.0, 340.0, 363.0, 430.0, 450.0, 500.0, 390.0, 450.0, 500.0, 475.0, 500.0, \n",
        "                500.0, 340.0, 600.0, 600.0, 700.0, 700.0, 610.0, 650.0, 575.0, 685.0, 620.0, 680.0, \n",
        "                700.0, 725.0, 720.0, 714.0, 850.0, 1000.0, 920.0, 955.0, 925.0, 975.0, 950.0]"
      ],
      "execution_count": null,
      "outputs": []
    },
    {
      "cell_type": "code",
      "metadata": {
        "id": "cQMPjZRdmmv9"
      },
      "source": [
        "import matplotlib.pyplot as plt"
      ],
      "execution_count": null,
      "outputs": []
    },
    {
      "cell_type": "code",
      "metadata": {
        "colab": {
          "base_uri": "https://localhost:8080/",
          "height": 295
        },
        "id": "QLURAERsmqEn",
        "outputId": "ed7888f6-3296-4314-b43a-8a1d5631af3a"
      },
      "source": [
        "plt.scatter(bream_length, bream_weight)\n",
        "plt.xlabel('length')\n",
        "plt.ylabel('weight')\n",
        "plt.title('bream')\n",
        "plt.show()"
      ],
      "execution_count": null,
      "outputs": [
        {
          "output_type": "display_data",
          "data": {
            "image/png": "[encoded data removed]",
            "text/plain": [
              "<Figure size 432x288 with 1 Axes>"
            ]
          },
          "metadata": {
            "tags": [],
            "needs_background": "light"
          }
        }
      ]
    },
    {
      "cell_type": "markdown",
      "metadata": {
        "id": "m65D5_x1nhHk"
      },
      "source": [
        "<h1> 빙어의 길이와 무게 <h1/>\n",
        "\n",
        "![빙어](https://www.whidbeynewstimes.com/wp-content/uploads/2017/01/web1_teaser-smelt.jpg)\n"
      ]
    },
    {
      "cell_type": "code",
      "metadata": {
        "id": "ZUlKf44Hm0Uu"
      },
      "source": [
        "smelt_length = [9.8, 10.5, 10.6, 11.0, 11.2, 11.3, 11.8, 11.8, 12.0, 12.2, 12.4, 13.0, 14.3, 15.0]\n",
        "smelt_weight = [6.7, 7.5, 7.0, 9.7, 9.8, 8.7, 10.0, 9.9, 9.8, 12.2, 13.4, 12.2, 19.7, 19.9]"
      ],
      "execution_count": null,
      "outputs": []
    },
    {
      "cell_type": "code",
      "metadata": {
        "colab": {
          "base_uri": "https://localhost:8080/",
          "height": 295
        },
        "id": "vI-vAvzNnVhp",
        "outputId": "5bb0e1ac-efec-47d8-839f-4d717aa91dbd"
      },
      "source": [
        "plt.scatter(bream_length, bream_weight)\n",
        "plt.scatter(smelt_length, smelt_weight)\n",
        "plt.xlabel('length')\n",
        "plt.ylabel('weight')\n",
        "plt.title('bream')\n",
        "plt.show()"
      ],
      "execution_count": null,
      "outputs": [
        {
          "output_type": "display_data",
          "data": {
            "image/png": "[encoded data removed]",
            "text/plain": [
              "<Figure size 432x288 with 1 Axes>"
            ]
          },
          "metadata": {
            "tags": [],
            "needs_background": "light"
          }
        }
      ]
    },
    {
      "cell_type": "markdown",
      "metadata": {
        "id": "EibS9bWpqh5q"
      },
      "source": [
        "### 나의 첫 최근접 이웃 알고리즘\n",
        "데이터 상에서 거리상 가장 가까이 있는 것으로 분류함\n"
      ]
    },
    {
      "cell_type": "code",
      "metadata": {
        "id": "PrLEIVdSqbZb"
      },
      "source": [
        "# 도미와 빙어의 길이 값을 하나의 리스트로 합쳐줌\n",
        "length = bream_length + smelt_length\n",
        "weight = bream_weight + smelt_weight"
      ],
      "execution_count": null,
      "outputs": []
    },
    {
      "cell_type": "code",
      "metadata": {
        "colab": {
          "base_uri": "https://localhost:8080/"
        },
        "id": "WxhhIp04qb6Y",
        "outputId": "b79486b6-8121-46ac-aa9a-f0b6b4aee7b2"
      },
      "source": [
        "#길이와 무게를 2차원 리스트로 합쳐줌\n",
        "fish_data = [[l,w] for l, w in zip(length,weight)]\n",
        "print(fish_data)"
      ],
      "execution_count": null,
      "outputs": [
        {
          "output_type": "stream",
          "text": [
            "[[25.4, 242.0], [26.3, 290.0], [26.5, 340.0], [29.0, 363.0], [29.0, 430.0], [29.7, 450.0], [29.7, 500.0], [30.0, 390.0], [30.0, 450.0], [30.7, 500.0], [31.0, 475.0], [31.0, 500.0], [31.5, 500.0], [32.0, 340.0], [32.0, 600.0], [32.0, 600.0], [33.0, 700.0], [33.0, 700.0], [33.5, 610.0], [33.5, 650.0], [34.0, 575.0], [34.0, 685.0], [34.5, 620.0], [35.0, 680.0], [35.0, 700.0], [35.0, 725.0], [35.0, 720.0], [36.0, 714.0], [36.0, 850.0], [37.0, 1000.0], [38.5, 920.0], [38.5, 955.0], [39.5, 925.0], [41.0, 975.0], [41.0, 950.0], [9.8, 6.7], [10.5, 7.5], [10.6, 7.0], [11.0, 9.7], [11.2, 9.8], [11.3, 8.7], [11.8, 10.0], [11.8, 9.9], [12.0, 9.8], [12.2, 12.2], [12.4, 13.4], [13.0, 12.2], [14.3, 19.7], [15.0, 19.9]]\n"
          ],
          "name": "stdout"
        }
      ]
    },
    {
      "cell_type": "code",
      "metadata": {
        "colab": {
          "base_uri": "https://localhost:8080/"
        },
        "id": "FWfpOxd4rP2e",
        "outputId": "a89cbf97-8395-4941-c5ec-b933409a5011"
      },
      "source": [
        "fish_target = [1] *35 + [0] *14\n",
        "print(fish_target)"
      ],
      "execution_count": null,
      "outputs": [
        {
          "output_type": "stream",
          "text": [
            "[1, 1, 1, 1, 1, 1, 1, 1, 1, 1, 1, 1, 1, 1, 1, 1, 1, 1, 1, 1, 1, 1, 1, 1, 1, 1, 1, 1, 1, 1, 1, 1, 1, 1, 1, 0, 0, 0, 0, 0, 0, 0, 0, 0, 0, 0, 0, 0, 0]\n"
          ],
          "name": "stdout"
        }
      ]
    },
    {
      "cell_type": "code",
      "metadata": {
        "id": "iGQpHbTRrb28"
      },
      "source": [
        "from sklearn.neighbors import KNeighborsClassifier\n",
        "kn = KNeighborsClassifier()"
      ],
      "execution_count": null,
      "outputs": []
    },
    {
      "cell_type": "markdown",
      "metadata": {
        "id": "VWCaq2xCsSw0"
      },
      "source": [
        " kn 객체에서 fish_data 와 fish_target을 전달하기 위해 도미를 찾기 위한 기준을 학습시킨다.\n",
        "\n",
        " 이 과정을 머신러닝에서 훈련(training) 이라고 한다. \n"
      ]
    },
    {
      "cell_type": "code",
      "metadata": {
        "id": "O9iqD4PMtCmX",
        "colab": {
          "base_uri": "https://localhost:8080/"
        },
        "outputId": "a6aa377b-0172-4511-b395-3b6018c435b8"
      },
      "source": [
        "# fit 메서드는 주어진 데이터로 알고리즘을 훈련시킨 뒤 모델을 훈련시킨다.\n",
        "kn.fit(fish_data, fish_target)"
      ],
      "execution_count": null,
      "outputs": [
        {
          "output_type": "execute_result",
          "data": {
            "text/plain": [
              "KNeighborsClassifier(algorithm='auto', leaf_size=30, metric='minkowski',\n",
              "                     metric_params=None, n_jobs=None, n_neighbors=5, p=2,\n",
              "                     weights='uniform')"
            ]
          },
          "metadata": {
            "tags": []
          },
          "execution_count": 10
        }
      ]
    },
    {
      "cell_type": "code",
      "metadata": {
        "colab": {
          "base_uri": "https://localhost:8080/"
        },
        "id": "d6T3gKImtM92",
        "outputId": "488c6ebd-dfc4-4902-cc1b-ff140144d901"
      },
      "source": [
        "# score 메서드는 kn 클래스가 얼마나 잘 훈련되었는지 평가하는 메서드.\n",
        "kn.score(fish_data,fish_target)"
      ],
      "execution_count": null,
      "outputs": [
        {
          "output_type": "execute_result",
          "data": {
            "text/plain": [
              "1.0"
            ]
          },
          "metadata": {
            "tags": []
          },
          "execution_count": 21
        }
      ]
    },
    {
      "cell_type": "markdown",
      "metadata": {
        "id": "_tqGDopVtRpw"
      },
      "source": [
        "score 의 결과가 1인 것으로 보아 현재 kn 클래스의 정확도는 100%"
      ]
    },
    {
      "cell_type": "markdown",
      "metadata": {
        "id": "H6lhhvBkwV0X"
      },
      "source": [
        "그렇다면 새로 들어온 데이터인 length, weight = [30,600]의 값은 어떻게 예측할 수 있을까요\n"
      ]
    },
    {
      "cell_type": "code",
      "metadata": {
        "colab": {
          "base_uri": "https://localhost:8080/",
          "height": 279
        },
        "id": "s5qoRcVUv0lP",
        "outputId": "f60938b6-4fc0-49f1-befd-2cf6f68124d4"
      },
      "source": [
        "plt.scatter(bream_length, bream_weight)\n",
        "plt.scatter(smelt_length, smelt_weight)\n",
        "plt.scatter(30,600,marker='^')\n",
        "plt.xlabel(\"length\")\n",
        "plt.ylabel(\"weight\")\n",
        "plt.show()"
      ],
      "execution_count": null,
      "outputs": [
        {
          "output_type": "display_data",
          "data": {
            "image/png": "[encoded data removed]",
            "text/plain": [
              "<Figure size 432x288 with 1 Axes>"
            ]
          },
          "metadata": {
            "tags": [],
            "needs_background": "light"
          }
        }
      ]
    },
    {
      "cell_type": "code",
      "metadata": {
        "colab": {
          "base_uri": "https://localhost:8080/"
        },
        "id": "rchdmgdbw7UT",
        "outputId": "d2a5ae64-3dd2-4e48-ef6d-63ac079d6266"
      },
      "source": [
        "kn.predict([[30,600]])"
      ],
      "execution_count": null,
      "outputs": [
        {
          "output_type": "execute_result",
          "data": {
            "text/plain": [
              "array([1])"
            ]
          },
          "metadata": {
            "tags": []
          },
          "execution_count": 29
        }
      ]
    },
    {
      "cell_type": "markdown",
      "metadata": {
        "id": "ari3dafcw-G0"
      },
      "source": [
        "predict 메서드는 새로운 데이터의 정답을 예측합니다. 이 메서드도 앞서 fit() 메서드와 마찬가지로 리스트를 전달해야 합니다. \n",
        "\n",
        "그래서 삼각형 포인트를 리스트로 2번 감쌌습니다. (2차원 데이터 전달) \n",
        "\n",
        "도미는 1번, 빙어는 0으로 가정했기 떄문에 삼각형은 _도미_ 입니다. "
      ]
    },
    {
      "cell_type": "markdown",
      "metadata": {
        "id": "dzPN_OZLxcGW"
      },
      "source": [
        "k - 최근접 이웃 알고리즘을 위해 우리가 할 일은 데이터를 모두 가지고 있는 게 전부입니다. <br/>새로운 데이터에 대해 예측할 때는 가장 가까운 직선거리에 어떤 데이터가 있는지를 살피기만 하면 됩니다.\n",
        "\n",
        "사이킷런의 KNeihborsClassifier 클래스도 마찬가지입니다. 이 클래스는 _fit_X 속성에 우리가 전달한 fish_data를 모두 갖고 있습니다. <br/>또 _y 속성에 fish_target을 가지고 있습니다.\n"
      ]
    },
    {
      "cell_type": "markdown",
      "metadata": {
        "id": "Qi6M9ls8zSs8"
      },
      "source": [
        "그럼 가까운 몇 개의 데이터를 참고할까요? <br/>\n",
        "KNeighborClassfier 클래스의 기본값은 5입니다. <br/>\n",
        "이 기준은 n_neighbor의 Argument(매개변수)로 바꿀 수 있습니다."
      ]
    },
    {
      "cell_type": "code",
      "metadata": {
        "id": "_rY_lyEO3CoK"
      },
      "source": [
        "# 참고 데이터를 49개로 한 kn 49개 모델\n",
        "kn49 = KNeighborsClassifier(n_neighbors=49) "
      ],
      "execution_count": null,
      "outputs": []
    },
    {
      "cell_type": "markdown",
      "metadata": {
        "id": "2X6gpaln3OVL"
      },
      "source": [
        "가장 가까운 데이터 49개를 사용하는 k-최근접 이웃 모델에 fish_data를 적용하면 fish_data에 있는 모든 생선을 이용하여 예측하게 됩니다. \n",
        "\n",
        "다시 말해, 49개 중에 도미가 35개로 다수를 차지하므로 어떤 데이터를 넣어도 무조건 도미로 예측할 것임.\n",
        "\n",
        "새로운 데이터 a 가 들어왔을때, 도미로 분류할 확률은 35/49 임"
      ]
    },
    {
      "cell_type": "code",
      "metadata": {
        "colab": {
          "base_uri": "https://localhost:8080/"
        },
        "id": "S3ug2INq3wGW",
        "outputId": "68cc70bd-a0aa-41ae-db28-e7f5baa59d06"
      },
      "source": [
        "kn49.fit(fish_data, fish_target)\n",
        "kn49.score(fish_data,fish_target)"
      ],
      "execution_count": null,
      "outputs": [
        {
          "output_type": "execute_result",
          "data": {
            "text/plain": [
              "0.7142857142857143"
            ]
          },
          "metadata": {
            "tags": []
          },
          "execution_count": 46
        }
      ]
    },
    {
      "cell_type": "code",
      "metadata": {
        "colab": {
          "base_uri": "https://localhost:8080/"
        },
        "id": "tOppVuGw37Nx",
        "outputId": "6fa3d432-833c-40e9-f214-b410293b7368"
      },
      "source": [
        "# 참고 데이터를 30개로 한 데이터 모델\n",
        "kn30 = KNeighborsClassifier(n_neighbors=30)\n",
        "kn30.fit(fish_data,fish_target)\n",
        "kn30.score(fish_data,fish_target) "
      ],
      "execution_count": null,
      "outputs": [
        {
          "output_type": "execute_result",
          "data": {
            "text/plain": [
              "0.7142857142857143"
            ]
          },
          "metadata": {
            "tags": []
          },
          "execution_count": 54
        }
      ]
    },
    {
      "cell_type": "code",
      "metadata": {
        "colab": {
          "base_uri": "https://localhost:8080/"
        },
        "id": "vuKyYdAK4L6S",
        "outputId": "a92bd2a9-c3aa-4fc1-e7f8-03bb6d106e54"
      },
      "source": [
        "# 참고 데이터를 20개로 한 데이터 모델\n",
        "kn20 = KNeighborsClassifier(n_neighbors=20)\n",
        "kn20.fit(fish_data,fish_target)\n",
        "kn20.score(fish_data,fish_target) "
      ],
      "execution_count": null,
      "outputs": [
        {
          "output_type": "execute_result",
          "data": {
            "text/plain": [
              "0.9795918367346939"
            ]
          },
          "metadata": {
            "tags": []
          },
          "execution_count": 55
        }
      ]
    },
    {
      "cell_type": "code",
      "metadata": {
        "colab": {
          "base_uri": "https://localhost:8080/"
        },
        "id": "gyDwClY_4OyU",
        "outputId": "8acc52f5-f8a8-45dd-9176-96f9efe79976"
      },
      "source": [
        "# 참고 데이터를 25개로 한 데이터 모델\n",
        "kn25 = KNeighborsClassifier(n_neighbors=25)\n",
        "kn25.fit(fish_data,fish_target)\n",
        "kn25.score(fish_data,fish_target) "
      ],
      "execution_count": null,
      "outputs": [
        {
          "output_type": "execute_result",
          "data": {
            "text/plain": [
              "0.9795918367346939"
            ]
          },
          "metadata": {
            "tags": []
          },
          "execution_count": 56
        }
      ]
    },
    {
      "cell_type": "code",
      "metadata": {
        "colab": {
          "base_uri": "https://localhost:8080/"
        },
        "id": "-dCVbhG24q3M",
        "outputId": "f5ddb1c8-f7b7-4707-aef9-aaaba5e95e70"
      },
      "source": [
        "# 참고 데이터를 30개로 한 데이터 모델\n",
        "kn27 = KNeighborsClassifier(n_neighbors=27)\n",
        "kn27.fit(fish_data,fish_target)\n",
        "kn27.score(fish_data,fish_target) "
      ],
      "execution_count": null,
      "outputs": [
        {
          "output_type": "execute_result",
          "data": {
            "text/plain": [
              "0.9795918367346939"
            ]
          },
          "metadata": {
            "tags": []
          },
          "execution_count": 57
        }
      ]
    },
    {
      "cell_type": "markdown",
      "metadata": {
        "id": "WSxGWsjh4vp-"
      },
      "source": [
        "# 예제 4 코드 완성"
      ]
    },
    {
      "cell_type": "code",
      "metadata": {
        "colab": {
          "base_uri": "https://localhost:8080/"
        },
        "id": "GOIk6o995jZu",
        "outputId": "9a122aa3-7b59-4f46-f0eb-231707e84184"
      },
      "source": [
        "for i in range(5,50):\n",
        "  kn.n_neighbors = i\n",
        "  score = kn.score(fish_data, fish_target)\n",
        "  print(i,\"\\t\",score)"
      ],
      "execution_count": null,
      "outputs": [
        {
          "output_type": "stream",
          "text": [
            "5 \t 1.0\n",
            "6 \t 1.0\n",
            "7 \t 1.0\n",
            "8 \t 1.0\n",
            "9 \t 1.0\n",
            "10 \t 1.0\n",
            "11 \t 1.0\n",
            "12 \t 1.0\n",
            "13 \t 1.0\n",
            "14 \t 1.0\n",
            "15 \t 1.0\n",
            "16 \t 1.0\n",
            "17 \t 1.0\n",
            "18 \t 0.9795918367346939\n",
            "19 \t 0.9795918367346939\n",
            "20 \t 0.9795918367346939\n",
            "21 \t 0.9795918367346939\n",
            "22 \t 0.9795918367346939\n",
            "23 \t 0.9795918367346939\n",
            "24 \t 0.9795918367346939\n",
            "25 \t 0.9795918367346939\n",
            "26 \t 0.9795918367346939\n",
            "27 \t 0.9795918367346939\n",
            "28 \t 0.9591836734693877\n",
            "29 \t 0.7142857142857143\n",
            "30 \t 0.7142857142857143\n",
            "31 \t 0.7142857142857143\n",
            "32 \t 0.7142857142857143\n",
            "33 \t 0.7142857142857143\n",
            "34 \t 0.7142857142857143\n",
            "35 \t 0.7142857142857143\n",
            "36 \t 0.7142857142857143\n",
            "37 \t 0.7142857142857143\n",
            "38 \t 0.7142857142857143\n",
            "39 \t 0.7142857142857143\n",
            "40 \t 0.7142857142857143\n",
            "41 \t 0.7142857142857143\n",
            "42 \t 0.7142857142857143\n",
            "43 \t 0.7142857142857143\n",
            "44 \t 0.7142857142857143\n",
            "45 \t 0.7142857142857143\n",
            "46 \t 0.7142857142857143\n",
            "47 \t 0.7142857142857143\n",
            "48 \t 0.7142857142857143\n",
            "49 \t 0.7142857142857143\n"
          ],
          "name": "stdout"
        }
      ]
    },
    {
      "cell_type": "code",
      "metadata": {
        "id": "-lD1E9ee50bf"
      },
      "source": [
        ""
      ],
      "execution_count": null,
      "outputs": []
    }
  ]
}