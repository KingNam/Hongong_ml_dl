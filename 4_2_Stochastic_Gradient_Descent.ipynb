{
  "nbformat": 4,
  "nbformat_minor": 0,
  "metadata": {
    "colab": {
      "name": "4_2 Stochastic Gradient Descent",
      "provenance": [],
      "authorship_tag": "ABX9TyOCKkQ2LR2dGdmLi+WVG5oS",
      "include_colab_link": true
    },
    "kernelspec": {
      "name": "python3",
      "display_name": "Python 3"
    },
    "language_info": {
      "name": "python"
    }
  },
  "cells": [
    {
      "cell_type": "markdown",
      "metadata": {
        "id": "view-in-github",
        "colab_type": "text"
      },
      "source": [
        "<a href=\"https://colab.research.google.com/github/KingNam/Hongong_ml_dl/blob/main/4_2_Stochastic_Gradient_Descent.ipynb\" target=\"_parent\"><img src=\"https://colab.research.google.com/assets/colab-badge.svg\" alt=\"Open In Colab\"/></a>"
      ]
    },
    {
      "cell_type": "markdown",
      "metadata": {
        "id": "TChqCp8yLOJ0"
      },
      "source": [
        "# 확률적 경사 하강법\n",
        "\n",
        "점진적학습?\n",
        "- 앞서 훈련한 모델을 버리지 않고 새로운 데이터에 대해서만 조금씩 학습시키는 방법\n",
        "\n",
        "점진적 학습 알고리즘 중 가장 대표적인 알고리즘을 **확률적 경사 하강법** 이라 한다.\n",
        "\n"
      ]
    }
  ]
}