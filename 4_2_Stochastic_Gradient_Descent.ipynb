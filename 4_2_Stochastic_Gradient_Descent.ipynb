{
  "nbformat": 4,
  "nbformat_minor": 0,
  "metadata": {
    "colab": {
      "name": "4_2 Stochastic Gradient Descent",
      "provenance": [],
      "authorship_tag": "ABX9TyOvzUg52ONswQhjXtRIGvgr",
      "include_colab_link": true
    },
    "kernelspec": {
      "name": "python3",
      "display_name": "Python 3"
    },
    "language_info": {
      "name": "python"
    }
  },
  "cells": [
    {
      "cell_type": "markdown",
      "metadata": {
        "id": "view-in-github",
        "colab_type": "text"
      },
      "source": [
        "<a href=\"https://colab.research.google.com/github/KingNam/Hongong_ml_dl/blob/main/4_2_Stochastic_Gradient_Descent.ipynb\" target=\"_parent\"><img src=\"https://colab.research.google.com/assets/colab-badge.svg\" alt=\"Open In Colab\"/></a>"
      ]
    },
    {
      "cell_type": "markdown",
      "metadata": {
        "id": "TChqCp8yLOJ0"
      },
      "source": [
        "# 확률적 경사 하강법\n",
        "\n",
        "점진적학습?\n",
        "- 앞서 훈련한 모델을 버리지 않고 새로운 데이터에 대해서만 조금씩 학습시키는 방법\n",
        "\n",
        "점진적 학습 알고리즘 중 가장 대표적인 알고리즘을 **확률적 경사 하강법** 이라 한다."
      ]
    },
    {
      "cell_type": "markdown",
      "metadata": {
        "id": "AoosJAxNN6Qc"
      },
      "source": [
        "### 확률적 경사 하강법 (Stochastic Gradient Descent)\n",
        "\n",
        " - Stochastic: 무작위 확률 분산을 가지거나 통계적으로 분석 가능한 패턴이나 정확히 예측할 수 없는(\n",
        " randomly determined; having a random probability distribution or pattern that may be analyzed statistically but may not be predicted precisely.)\n",
        "\n",
        " - Gradient: 경사(an inclined part of a road or railway; a slope)\n",
        "\n",
        " - Descent: 하강\n",
        "\n",
        "> 즉, 확률적 경사 하강법이란 무작위하게 경사를 따라 내려가는 방법\n"
      ]
    },
    {
      "cell_type": "markdown",
      "metadata": {
        "id": "hWeK5t19rYwz"
      },
      "source": [
        "확률적 경사 하강법을 배우기 전에\n",
        "\n",
        "1. 경사에 대해서 알아보고\n",
        "\n",
        "2. 경사 하강법에 대해 알아보자\n",
        "\n",
        "[관련링크](https://angeloyeo.github.io/2019/08/25/gradient.html)"
      ]
    },
    {
      "cell_type": "code",
      "metadata": {
        "id": "vGjUXSQrrj8P"
      },
      "source": [
        ""
      ],
      "execution_count": null,
      "outputs": []
    }
  ]
}