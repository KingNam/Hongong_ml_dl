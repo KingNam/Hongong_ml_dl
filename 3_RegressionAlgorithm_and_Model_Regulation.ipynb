{
  "nbformat": 4,
  "nbformat_minor": 0,
  "metadata": {
    "colab": {
      "name": "3.RegressionAlgorithm and Model Regulation",
      "provenance": [],
      "authorship_tag": "ABX9TyMG+r3+VeRhL7E/4S4oSxHX",
      "include_colab_link": true
    },
    "kernelspec": {
      "name": "python3",
      "display_name": "Python 3"
    },
    "language_info": {
      "name": "python"
    }
  },
  "cells": [
    {
      "cell_type": "markdown",
      "metadata": {
        "id": "view-in-github",
        "colab_type": "text"
      },
      "source": [
        "<a href=\"https://colab.research.google.com/github/KingNam/Hongong_ml_dl/blob/main/3_RegressionAlgorithm_and_Model_Regulation.ipynb\" target=\"_parent\"><img src=\"https://colab.research.google.com/assets/colab-badge.svg\" alt=\"Open In Colab\"/></a>"
      ]
    },
    {
      "cell_type": "markdown",
      "metadata": {
        "id": "vCsNUuEzMM7J"
      },
      "source": [
        ""
      ]
    }
  ]
}