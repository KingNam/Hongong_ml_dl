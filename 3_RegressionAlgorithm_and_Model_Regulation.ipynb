{
  "nbformat": 4,
  "nbformat_minor": 0,
  "metadata": {
    "colab": {
      "name": "3.RegressionAlgorithm and Model Regulation",
      "provenance": [],
      "authorship_tag": "ABX9TyO5L0A/eIvkvOFBTRMQmoFo",
      "include_colab_link": true
    },
    "kernelspec": {
      "name": "python3",
      "display_name": "Python 3"
    },
    "language_info": {
      "name": "python"
    }
  },
  "cells": [
    {
      "cell_type": "markdown",
      "metadata": {
        "id": "view-in-github",
        "colab_type": "text"
      },
      "source": [
        "<a href=\"https://colab.research.google.com/github/KingNam/Hongong_ml_dl/blob/main/3_RegressionAlgorithm_and_Model_Regulation.ipynb\" target=\"_parent\"><img src=\"https://colab.research.google.com/assets/colab-badge.svg\" alt=\"Open In Colab\"/></a>"
      ]
    },
    {
      "cell_type": "markdown",
      "metadata": {
        "id": "vCsNUuEzMM7J"
      },
      "source": [
        "# K- 최근접 이웃 회귀\n",
        "\n",
        "회귀(Regression) 란 무엇인가?\n",
        "\n",
        "지도학습 (Supervised Learning)은 target변수를 예측을 목표로 한다.\n",
        "\n",
        "target변수가 수치변수이면 회귀를 활용하여 수치를 계산하여 예측하고\n",
        "\n",
        "target변수가 Categorical 변수면 분류(Classification)를 활용하여 target의 Class를 예측한다.\n",
        "\n",
        "\n",
        "앞서, K-최근접 이웃 모델을 통해 도미와 빙어의 분류 문제를 해결하였다.\n",
        "\n",
        "이제는 분류가 아닌 회귀 문제를 해결해보자. \n",
        "\n",
        "분류와 가까운 샘플을 찾는 것은 비슷하나 예측값이 다르다.\n",
        "</br></br>\n",
        "k - 최근접 이웃 분류 (K-Nearest Neighbors Classification)\n",
        " - 새로운 샘플과 가장 가까운 샘플 k개를 선택하여 다수 클래스를 새로운 샘플의 클래스로 예측한다.\n",
        "\n",
        "k - 최근접 이웃 회귀 (K-Nearest Neighnors Regression)\n",
        " - 새로운 샘플과 가장 가까운 샘플 k개를 선택하여 샘플의 수치를 활용하여 (ex. 평균값 계산) 새로운 샘플의 타깃값을 예측한다. \n",
        "\n"
      ]
    },
    {
      "cell_type": "code",
      "metadata": {
        "id": "NDvXDGHdcyrH"
      },
      "source": [
        "import numpy as np\n",
        "\n",
        "# 훈련 데이터 준비\n",
        "perch_length = np.array([8.4, 13.7, 15.0, 16.2, 17.4, 18.0, 18.7, 19.0, 19.6, 20.0, 21.0,\n",
        "                         21.0, 21.0, 21.3, 22.0, 22.0, 22.0, 22.0, 22.0, 22.5, 22.5, 22.7,\n",
        "                         23.0, 23.5, 24.0, 24.0, 24.6, 25.0, 25.6, 26.5, 27.3, 27.5, 27.5,\n",
        "                         27.5, 28.0, 28.7, 30.0, 32.8, 34.5, 35.0, 36.5, 36.0, 37.0, 37.0,\n",
        "                         39.0, 39.0, 39.0, 40.0, 40.0, 40.0, 40.0, 42.0, 43.0, 43.0, 43.5,\n",
        "                         44.0])\n",
        "perch_weight = np.array([5.9, 32.0, 40.0, 51.5, 70.0, 100.0, 78.0, 80.0, 85.0, 85.0, 110.0,\n",
        "                         115.0, 125.0, 130.0, 120.0, 120.0, 130.0, 135.0, 110.0, 130.0,\n",
        "                         150.0, 145.0, 150.0, 170.0, 225.0, 145.0, 188.0, 180.0, 197.0,\n",
        "                         218.0, 300.0, 260.0, 265.0, 250.0, 250.0, 300.0, 320.0, 514.0,\n",
        "                         556.0, 840.0, 685.0, 700.0, 700.0, 690.0, 900.0, 650.0, 820.0,\n",
        "                         850.0, 900.0, 1015.0, 820.0, 1100.0, 1000.0, 1100.0, 1000.0,\n",
        "                         1000.0])"
      ],
      "execution_count": null,
      "outputs": []
    },
    {
      "cell_type": "code",
      "metadata": {
        "colab": {
          "base_uri": "https://localhost:8080/",
          "height": 279
        },
        "id": "wJm0cTQgdTij",
        "outputId": "4c59b0a9-623f-46e6-9ef6-4f45c3782a13"
      },
      "source": [
        "# 산점도 그려보기\n",
        "import matplotlib.pyplot as plt\n",
        "plt.scatter(perch_length, perch_weight)\n",
        "plt.xlabel(\"length\")\n",
        "plt.ylabel(\"weight\")\n",
        "plt.show()"
      ],
      "execution_count": null,
      "outputs": [
        {
          "output_type": "display_data",
          "data": {
            "image/png": "[encoded data removed]",
            "text/plain": [
              "<Figure size 432x288 with 1 Axes>"
            ]
          },
          "metadata": {
            "tags": [],
            "needs_background": "light"
          }
        }
      ]
    },
    {
      "cell_type": "markdown",
      "metadata": {
        "id": "jPmWtxOId-cL"
      },
      "source": [
        "길이가 늘어남에 따라 무게도 늘어나는 것을 확인\n"
      ]
    },
    {
      "cell_type": "code",
      "metadata": {
        "id": "E41e4MY6ebMg"
      },
      "source": [
        "# 데이터를 train_set 과 Test_set으로 나누기\n",
        "from sklearn.model_selection import train_test_split\n",
        "train_input, test_input, train_target, test_target = train_test_split(\n",
        "    perch_length, perch_weight, random_state=42\n",
        ")"
      ],
      "execution_count": null,
      "outputs": []
    },
    {
      "cell_type": "markdown",
      "metadata": {
        "id": "q76Bc8Oqe5Vl"
      },
      "source": [
        "사이킷런에서 사용할 train_set은 2차원 배열이여야 함.\n",
        "\n",
        "but, 지금 perch_length 와 perch_weight는 1차원 배열.\n",
        "\n",
        "따라서, 2차원 배열로 바꿔 주어야함"
      ]
    },
    {
      "cell_type": "code",
      "metadata": {
        "colab": {
          "base_uri": "https://localhost:8080/"
        },
        "id": "17VhrG1SflBA",
        "outputId": "329c79cf-8f1a-4c6f-89ff-874c7fd3b540"
      },
      "source": [
        "# reshape 메서드\n",
        "test_array = np.array([1,2,3,4])\n",
        "print(test_array.shape)"
      ],
      "execution_count": null,
      "outputs": [
        {
          "output_type": "stream",
          "text": [
            "(4,)\n"
          ],
          "name": "stdout"
        }
      ]
    },
    {
      "cell_type": "code",
      "metadata": {
        "colab": {
          "base_uri": "https://localhost:8080/"
        },
        "id": "GTWqGg6Kf7eu",
        "outputId": "5f4fdb7a-ae89-4a64-f4fb-702cf3941f83"
      },
      "source": [
        "# 앞에서 두개씩 잘라 행으로 stack\n",
        "re_test_array = test_array.reshape(2,2)\n",
        "print(re_test_array)\n",
        "print(re_test_array.shape)"
      ],
      "execution_count": null,
      "outputs": [
        {
          "output_type": "stream",
          "text": [
            "[[1 2]\n",
            " [3 4]]\n",
            "(2, 2)\n"
          ],
          "name": "stdout"
        }
      ]
    },
    {
      "cell_type": "code",
      "metadata": {
        "colab": {
          "base_uri": "https://localhost:8080/"
        },
        "id": "XAEjYkhigBj5",
        "outputId": "c3b87852-58dd-4d68-dbdc-0beaaf789b57"
      },
      "source": [
        "train_input"
      ],
      "execution_count": null,
      "outputs": [
        {
          "output_type": "execute_result",
          "data": {
            "text/plain": [
              "array([19.6, 22. , 18.7, 17.4, 36. , 25. , 40. , 39. , 43. , 22. , 20. ,\n",
              "       22. , 24. , 27.5, 43. , 40. , 24. , 21. , 27.5, 40. , 32.8, 26.5,\n",
              "       36.5, 13.7, 22.7, 15. , 37. , 35. , 28.7, 23.5, 39. , 21. , 23. ,\n",
              "       22. , 44. , 22.5, 19. , 37. , 22. , 25.6, 42. , 34.5])"
            ]
          },
          "metadata": {
            "tags": []
          },
          "execution_count": 16
        }
      ]
    },
    {
      "cell_type": "code",
      "metadata": {
        "colab": {
          "base_uri": "https://localhost:8080/"
        },
        "id": "Vquq8kH9gVhn",
        "outputId": "5b6c087b-fd5c-4ea7-d0be-f8603abc52fb"
      },
      "source": [
        "train_target"
      ],
      "execution_count": null,
      "outputs": [
        {
          "output_type": "execute_result",
          "data": {
            "text/plain": [
              "array([  85.,  135.,   78.,   70.,  700.,  180.,  850.,  820., 1000.,\n",
              "        120.,   85.,  130.,  225.,  260., 1100.,  900.,  145.,  115.,\n",
              "        265., 1015.,  514.,  218.,  685.,   32.,  145.,   40.,  690.,\n",
              "        840.,  300.,  170.,  650.,  110.,  150.,  110., 1000.,  150.,\n",
              "         80.,  700.,  120.,  197., 1100.,  556.])"
            ]
          },
          "metadata": {
            "tags": []
          },
          "execution_count": 18
        }
      ]
    },
    {
      "cell_type": "code",
      "metadata": {
        "id": "aKE2ObzagaeU"
      },
      "source": [
        "# reshape 함수에서 크기를 -1 로 지정하면 자동으로 숫자를 계산하여 배정해준다.\n",
        "# 현재 train_input 에는 42개 원소가 1차 배열로 있음\n",
        "\n",
        "# 2차원으로 주고 -1,1 로 지정하면 -1값은 42로 계산된다.\n",
        "train_input= train_input.reshape(-1,1)\n",
        "print(train_input)\n",
        "\n",
        "# 2차원에 -1, 3 이면 -1 값은 42/3 = 14 가 된다. (14행 3열)\n",
        "train_input_14_3 = train_input.reshape(-1,3)\n",
        "print(train_input_14_3)\n",
        "train_input_14_3_ver2 = train_input.reshape(14,3)\n",
        "print(train_input_14_3_ver2)\n",
        "\n",
        "# 3차원에 2,3,-1 이면 -1 값은 (42/2)/3 = 7 이 된다.\n",
        "train_input_2_3_7 = train_input.reshape(2,3,-1)\n",
        "print(train_input_2_3_7)\n",
        "train_input_2_3_7_ver2 = train_input.reshape(2,3,7)\n",
        "print(train_input_2_3_7_ver2)\n"
      ],
      "execution_count": null,
      "outputs": []
    },
    {
      "cell_type": "code",
      "metadata": {
        "id": "u6qrYVi2hY0c"
      },
      "source": [
        "# reshape 함수를 통해 1차원 배열을 42행 1열의 2차원으로 변환\n",
        "train_input = train_input.reshape(-1,1)\n",
        "test_input = test_input.reshape(-1,1)"
      ],
      "execution_count": null,
      "outputs": []
    },
    {
      "cell_type": "markdown",
      "metadata": {
        "id": "ktCC4s-3i18T"
      },
      "source": [
        "# 결정계수 ($R^2$)\n",
        "\n",
        "$R^2 = 1- \\frac{RSS}{TSS}$\n",
        "\n",
        "RSS(Sum of Squares of Residual): 잔차 제곱합\n",
        "\n",
        "TSS(Totals of Sum of Squares): 총 제곱합\n",
        "\n",
        "자세한 설명은 아래링크\n",
        "\n",
        "[결정계수를 직관적으로 이해하기](https://ko.khanacademy.org/math/statistics-probability/describing-relationships-quantitative-data/assessing-the-fit-in-least-squares-regression/a/r-squared-intuition)"
      ]
    },
    {
      "cell_type": "code",
      "metadata": {
        "colab": {
          "base_uri": "https://localhost:8080/"
        },
        "id": "9ou3ZPZ_pali",
        "outputId": "5b0972b7-7060-4523-c2c5-a13f3ab8cc47"
      },
      "source": [
        "from sklearn.neighbors import KNeighborsRegressor\n",
        "knr = KNeighborsRegressor()\n",
        "\n",
        "# K-최근접 이웃 회귀 모델을 훈련시킴\n",
        "knr.fit(train_input, train_target)"
      ],
      "execution_count": null,
      "outputs": [
        {
          "output_type": "execute_result",
          "data": {
            "text/plain": [
              "KNeighborsRegressor(algorithm='auto', leaf_size=30, metric='minkowski',\n",
              "                    metric_params=None, n_jobs=None, n_neighbors=5, p=2,\n",
              "                    weights='uniform')"
            ]
          },
          "metadata": {
            "tags": []
          },
          "execution_count": 45
        }
      ]
    },
    {
      "cell_type": "code",
      "metadata": {
        "colab": {
          "base_uri": "https://localhost:8080/"
        },
        "id": "ZatWMkILqpHZ",
        "outputId": "d752f2ad-883b-46fd-a46c-864a0c468e10"
      },
      "source": [
        "# 결정계수를 계산. 분류에서는 정확도\n",
        "print(knr.score(test_input,test_target))"
      ],
      "execution_count": null,
      "outputs": [
        {
          "output_type": "stream",
          "text": [
            "0.9928094061010639\n"
          ],
          "name": "stdout"
        }
      ]
    },
    {
      "cell_type": "code",
      "metadata": {
        "colab": {
          "base_uri": "https://localhost:8080/"
        },
        "id": "FO_bWjrYrWoV",
        "outputId": "f305575a-ef43-43a7-cc7b-465e50c69c23"
      },
      "source": [
        "# 직접적으로 타깃과 예측한 값 사이의 차이를 구함으로써, 어느정도 예측이 벗어났는지 확인\n",
        "# mean_absolute_error 함수를 활용해 타깃과 예측값의 절댓값 오차를 평균하여 반환함\n",
        "from sklearn.metrics import mean_absolute_error\n",
        "\n",
        "#테스트 세트에 대한 예측을 만듭니다.\n",
        "test_prediction = knr.predict(test_input)\n",
        "\n",
        "# 테스트 세트에 대한 평균 절댓값 오차를 계산합니다.\n",
        "mae = mean_absolute_error(test_target, test_prediction)\n",
        "print(mae)"
      ],
      "execution_count": null,
      "outputs": [
        {
          "output_type": "stream",
          "text": [
            "19.157142857142862\n"
          ],
          "name": "stdout"
        }
      ]
    },
    {
      "cell_type": "markdown",
      "metadata": {
        "id": "maENrxFXr4WK"
      },
      "source": [
        "결과적으로 예측이 19g 정도 타깃값과 다르다는 것을 알 수 있음."
      ]
    },
    {
      "cell_type": "markdown",
      "metadata": {
        "id": "Hk0zqqHwsqxr"
      },
      "source": [
        "# 과대적합 vs 과소적합\n",
        "\n",
        "과대적합(Overfitting): 훈련세트에서 점수가 굉장히 좋았는데 테스트 세트에서 점수가 굉장히 나쁜 경우\n",
        "\n",
        "과소적합(Underfitting): 훈련세트보다 테스트세트의 점수가 높거나 두 점수가 모두 너무 낮은 경우. 즉, 모델이 너무 단순하여 훈련 세트에 적절히 훈련되지 않은 경우"
      ]
    },
    {
      "cell_type": "code",
      "metadata": {
        "colab": {
          "base_uri": "https://localhost:8080/"
        },
        "id": "fcptnNpUsv6Z",
        "outputId": "a7e1593e-de4d-48de-d1a0-cf6cd71c3a40"
      },
      "source": [
        "# 아래의 경우는 test 세트의 점수가 더 높으니, 과소적합\n",
        "print(knr.score(train_input, train_target))\n",
        "print(knr.score(test_input, test_target))"
      ],
      "execution_count": null,
      "outputs": [
        {
          "output_type": "stream",
          "text": [
            "0.9698823289099255\n",
            "0.9928094061010639\n"
          ],
          "name": "stdout"
        }
      ]
    },
    {
      "cell_type": "markdown",
      "metadata": {
        "id": "n5oXdwFytxlQ"
      },
      "source": [
        "문제 해결을 위해 모델을 조금 더 복잡하게 만들면 된다.\n",
        "\n",
        "k-최근접 알고리즘의 복잡도를 높이는 방법은 k의 개수를 줄이는 것이다. \n",
        "\n",
        "즉, 새로운 샘플이 들어왔을때 훈련세트에 대한 힌트를 덜 줌으로써 복잡하게 만드는 것. \n",
        "\n",
        "반대로 모델의 단순화를 위해서는 k의 개수를 늘린다.\n"
      ]
    },
    {
      "cell_type": "code",
      "metadata": {
        "colab": {
          "base_uri": "https://localhost:8080/"
        },
        "id": "6uLW4r6DuPMR",
        "outputId": "26374c32-aab4-4d48-ab57-d566911f0c3f"
      },
      "source": [
        "# 이웃의 개수를 3으로 설정합니다.\n",
        "knr.n_neighbors = 3\n",
        "\n",
        "# 모델을 다시 훈련합니다.\n",
        "knr.fit(train_input, train_target)\n",
        "print(knr.score(train_input, train_target))"
      ],
      "execution_count": null,
      "outputs": [
        {
          "output_type": "stream",
          "text": [
            "0.9804899950518966\n"
          ],
          "name": "stdout"
        }
      ]
    },
    {
      "cell_type": "code",
      "metadata": {
        "colab": {
          "base_uri": "https://localhost:8080/"
        },
        "id": "HRFIslRWue-A",
        "outputId": "80140c4c-31a6-4b9a-92b1-180f98748b54"
      },
      "source": [
        "print(knr.score(test_input, test_target))"
      ],
      "execution_count": null,
      "outputs": [
        {
          "output_type": "stream",
          "text": [
            "0.974645996398761\n"
          ],
          "name": "stdout"
        }
      ]
    },
    {
      "cell_type": "markdown",
      "metadata": {
        "id": "jvaDa-hZukRz"
      },
      "source": [
        "# 선형 회귀\n",
        "\n",
        "#### KNN의 한계"
      ]
    },
    {
      "cell_type": "code",
      "metadata": {
        "id": "vWLzO415bJux"
      },
      "source": [
        "import numpy as np \n",
        "perch_length = np.array([8.4, 13.7, 15.0, 16.2, 17.4, 18.0, 18.7, 19.0, 19.6, 20.0, 21.0,\n",
        "       21.0, 21.0, 21.3, 22.0, 22.0, 22.0, 22.0, 22.0, 22.5, 22.5, 22.7,\n",
        "       23.0, 23.5, 24.0, 24.0, 24.6, 25.0, 25.6, 26.5, 27.3, 27.5, 27.5,\n",
        "       27.5, 28.0, 28.7, 30.0, 32.8, 34.5, 35.0, 36.5, 36.0, 37.0, 37.0,\n",
        "       39.0, 39.0, 39.0, 40.0, 40.0, 40.0, 40.0, 42.0, 43.0, 43.0, 43.5,\n",
        "       44.0])\n",
        "perch_weight = np.array([5.9, 32.0, 40.0, 51.5, 70.0, 100.0, 78.0, 80.0, 85.0, 85.0, 110.0,\n",
        "       115.0, 125.0, 130.0, 120.0, 120.0, 130.0, 135.0, 110.0, 130.0,\n",
        "       150.0, 145.0, 150.0, 170.0, 225.0, 145.0, 188.0, 180.0, 197.0,\n",
        "       218.0, 300.0, 260.0, 265.0, 250.0, 250.0, 300.0, 320.0, 514.0,\n",
        "       556.0, 840.0, 685.0, 700.0, 700.0, 690.0, 900.0, 650.0, 820.0,\n",
        "       850.0, 900.0, 1015.0, 820.0, 1100.0, 1000.0, 1100.0, 1000.0,\n",
        "       1000.0])"
      ],
      "execution_count": 1,
      "outputs": []
    },
    {
      "cell_type": "code",
      "metadata": {
        "id": "ybjVRDl9cSFU"
      },
      "source": [
        "from sklearn.model_selection import train_test_split\n",
        "\n",
        "#훈련세트와 테스트 세트로 나눈다.\n",
        "train_input, test_input, train_target, test_target = train_test_split(\n",
        "    perch_length, perch_weight, random_state=42\n",
        ")\n",
        "\n",
        "# 훈련 세트와 테스트 세트를 2차원 배열로 바꾼다.\n",
        "train_input = train_input.reshape(-1,1)\n",
        "test_input = test_input.reshape(-1,1)"
      ],
      "execution_count": 35,
      "outputs": []
    },
    {
      "cell_type": "code",
      "metadata": {
        "colab": {
          "base_uri": "https://localhost:8080/"
        },
        "id": "fIW2v0VHcjWA",
        "outputId": "8f533e89-b41e-4b25-b90b-44f31bad5246"
      },
      "source": [
        "from sklearn.neighbors import KNeighborsRegressor\n",
        "\n",
        "knr = KNeighborsRegressor(n_neighbors=3)\n",
        "\n",
        "# k - 최근접 이웃 회귀 모델을 훈련합니다.\n",
        "knr.fit(train_input, train_target)\n",
        "\n",
        "print(knr.predict([[50]]))"
      ],
      "execution_count": 36,
      "outputs": [
        {
          "output_type": "stream",
          "text": [
            "[1033.33333333]\n"
          ],
          "name": "stdout"
        }
      ]
    },
    {
      "cell_type": "code",
      "metadata": {
        "colab": {
          "base_uri": "https://localhost:8080/",
          "height": 350
        },
        "id": "wQDSqcFPdLZ1",
        "outputId": "9bfa8efe-65e8-4964-f3cb-3cdea052ea51"
      },
      "source": [
        "import matplotlib.pyplot as plt\n",
        "\n",
        "# 50cm 농어의 이웃을 구합니다.\n",
        "distances, indexes = knr.kneighbors([[50]])\n",
        "\n",
        "# 훈련 세트의 산점도를 그립니다.\n",
        "plt.scatter(train_input, train_target)\n",
        "\n",
        "# 훈련 세트 중에서 이웃 샘플만 다시 그린다.\n",
        "plt.scatter(train_input[indexes], train_target[indexes], marker= 'D')\n",
        "\n",
        "# 50cm 농어 데이터\n",
        "plt.scatter(50,1033, marker='^')\n",
        "plt.xlabel('length')\n",
        "plt.ylabel('weight')\n",
        "plt.show()\n",
        "\n",
        "print(\"가장 가까운 데이터의 길이는:\" , train_input[indexes])\n",
        "print(np.mean(train_target[indexes]))"
      ],
      "execution_count": 37,
      "outputs": [
        {
          "output_type": "display_data",
          "data": {
            "image/png": "[encoded data removed]",
            "text/plain": [
              "<Figure size 432x288 with 1 Axes>"
            ]
          },
          "metadata": {
            "tags": [],
            "needs_background": "light"
          }
        },
        {
          "output_type": "stream",
          "text": [
            "가장 가까운 데이터의 길이는: [[[44.]\n",
            "  [43.]\n",
            "  [43.]]]\n",
            "1033.3333333333333\n"
          ],
          "name": "stdout"
        }
      ]
    },
    {
      "cell_type": "markdown",
      "metadata": {
        "id": "f11EK-kDd-Yr"
      },
      "source": [
        "KNN의 단점은 가장 가까운 점으로만 계산을 해서 새로운 데이터에 대한 예측이 유동적이지 않다.\n",
        "\n",
        "상식적으로 농어의 length 가 늘어나면 무게도 늘어난다. \n",
        "\n",
        "그러나, KNN에서는 길이가 늘어나도 무게에 대한 데이터가 한정적이라 예측값 또한 한정적이다.\n",
        "\n",
        "예를들어, 길이가 100에 1000kg 짜리 농어와 길이가 70에 2000kg 짜리 농어가 있다고 가정해보자. \n",
        "\n",
        "KNN 알고리즘에 의하면 이 두개에 대한 예측값은 둘다 (1000 + 1000 + 1100) / 3 의 값인 1033 이 나온다.\n",
        "\n",
        "따라서, 지금의 문제는 KNN으로 해결하기 어렵다."
      ]
    },
    {
      "cell_type": "markdown",
      "metadata": {
        "id": "9tChg1pYgpYY"
      },
      "source": [
        "#### 선형 회귀 (linear regression)\n",
        "\n",
        "데이터 안에서 최적의 직선을 찾는 알고리즘"
      ]
    },
    {
      "cell_type": "code",
      "metadata": {
        "colab": {
          "base_uri": "https://localhost:8080/"
        },
        "id": "ovbIqY0li6aL",
        "outputId": "0bab831d-3fb0-4cab-a091-a05f5694a055"
      },
      "source": [
        "from sklearn.linear_model import LinearRegression\n",
        "lr = LinearRegression()\n",
        "\n",
        "# 선형 회귀 모델을 훈련합니다.\n",
        "lr.fit(train_input, train_target)\n",
        "\n",
        "# 50cm 농어에 대해 예측합니다.\n",
        "print(lr.predict([[50]]))"
      ],
      "execution_count": 38,
      "outputs": [
        {
          "output_type": "stream",
          "text": [
            "[1241.83860323]\n"
          ],
          "name": "stdout"
        }
      ]
    },
    {
      "cell_type": "code",
      "metadata": {
        "colab": {
          "base_uri": "https://localhost:8080/"
        },
        "id": "KQrCAE2djL9H",
        "outputId": "0dee7679-171f-4288-ecdd-c20cf5b3808c"
      },
      "source": [
        "# 이 회귀모델에 대한 계수와 절편은 다음과 같다.\n",
        "print(lr.coef_, lr.intercept_)"
      ],
      "execution_count": 39,
      "outputs": [
        {
          "output_type": "stream",
          "text": [
            "[39.01714496] -709.0186449535477\n"
          ],
          "name": "stdout"
        }
      ]
    },
    {
      "cell_type": "code",
      "metadata": {
        "colab": {
          "base_uri": "https://localhost:8080/",
          "height": 279
        },
        "id": "5nSGxIVpjquT",
        "outputId": "5a4255e5-64e5-48aa-8cf4-40a399dac01f"
      },
      "source": [
        "# 회귀 직선 그려보기\n",
        "plt.scatter(train_input, train_target)\n",
        "plt.plot([15,50], [ 15*lr.coef_ + lr.intercept_, 50*lr.coef_ + lr.intercept_])\n",
        "plt.scatter(50,1241.8, marker='^')\n",
        "plt.xlabel('length')\n",
        "plt.ylabel('weight')\n",
        "plt.show()\n"
      ],
      "execution_count": 40,
      "outputs": [
        {
          "output_type": "display_data",
          "data": {
            "image/png": "[encoded data removed]",
            "text/plain": [
              "<Figure size 432x288 with 1 Axes>"
            ]
          },
          "metadata": {
            "tags": [],
            "needs_background": "light"
          }
        }
      ]
    },
    {
      "cell_type": "code",
      "metadata": {
        "colab": {
          "base_uri": "https://localhost:8080/"
        },
        "id": "P7fhha82nNPC",
        "outputId": "d0bbd72e-5b57-4fca-bb75-3779f2c62c52"
      },
      "source": [
        "print(lr.score(train_input, train_target))\n",
        "print(lr.score(test_input, test_target))"
      ],
      "execution_count": 41,
      "outputs": [
        {
          "output_type": "stream",
          "text": [
            "0.9398463339976039\n",
            "0.8247503123313558\n"
          ],
          "name": "stdout"
        }
      ]
    },
    {
      "cell_type": "markdown",
      "metadata": {
        "id": "8YMiqbhcnoeu"
      },
      "source": [
        "위 데이터는 곡선 형태의 데이터를 직선으로 회귀한다고 예측하였기 때문에 과소적합되었다고 볼 수 있다.\n",
        "\n",
        "현대 데이터를 최적으로 학습시키면 곡선의 방정식이 나와야하는데 위 과정에서는 직선의 방적식이 나오므로 과소적합되었다고 판단할 수 있는 것.\n"
      ]
    },
    {
      "cell_type": "markdown",
      "metadata": {
        "id": "yx70kf-ZpAJ4"
      },
      "source": [
        "#### 다항 회귀\n",
        "\n",
        "현재 농어 데이터에서 최적의 곡선을 찾아보자.\n",
        "\n",
        "$무게 = a \\times 길이^2 + b \\times 길이 + c$\n",
        "\n",
        "위와 같은 2차 그래프를 그리려면 길이를 제곱한 항이 train_set에 추가되어야 한다."
      ]
    },
    {
      "cell_type": "code",
      "metadata": {
        "id": "OS-in5_Vq3eb"
      },
      "source": [
        "train_poly = np.column_stack((train_input**2, train_input))\n",
        "test_poly = np.column_stack((test_input**2, test_input))"
      ],
      "execution_count": 42,
      "outputs": []
    },
    {
      "cell_type": "code",
      "metadata": {
        "colab": {
          "base_uri": "https://localhost:8080/"
        },
        "id": "GpblBRIEq_54",
        "outputId": "8cf10517-7357-44a0-c9fa-a74497234a34"
      },
      "source": [
        "lr = LinearRegression()\n",
        "lr.fit(train_poly, train_target)\n",
        "print(lr.predict([[50**2,50]]))"
      ],
      "execution_count": 45,
      "outputs": [
        {
          "output_type": "stream",
          "text": [
            "[1573.98423528]\n"
          ],
          "name": "stdout"
        }
      ]
    },
    {
      "cell_type": "code",
      "metadata": {
        "colab": {
          "base_uri": "https://localhost:8080/"
        },
        "id": "PJlP4H6srXyS",
        "outputId": "d522389f-07c6-4bdc-d973-9797fbbaaf5c"
      },
      "source": [
        "print(lr.coef_, lr. intercept_)"
      ],
      "execution_count": 46,
      "outputs": [
        {
          "output_type": "stream",
          "text": [
            "[  1.01433211 -21.55792498] 116.05021078278276\n"
          ],
          "name": "stdout"
        }
      ]
    },
    {
      "cell_type": "markdown",
      "metadata": {
        "id": "Sq2aW5ZnrsCa"
      },
      "source": [
        "위 값이 학습된 모델에서 나온 절편\n",
        "\n",
        "따라서,\n",
        "\n",
        "$무게 = 1.01 \\times 길이^2 - 21.6 \\times 길이 + 116.05$ 이다.\n",
        "\n",
        "이런 회귀식을 다항 회귀(polynomial regression)라고 부른다."
      ]
    },
    {
      "cell_type": "code",
      "metadata": {
        "colab": {
          "base_uri": "https://localhost:8080/",
          "height": 279
        },
        "id": "1h-EK59br7yM",
        "outputId": "f774fbcb-495d-4b05-8ef7-fc9b9115b19f"
      },
      "source": [
        " # 구간별로 직선 그리기\n",
        " point = np.arange(15,50)\n",
        "\n",
        " # 훈련세트의 산점도를 그린다.\n",
        " plt.scatter(train_input, train_target)\n",
        "\n",
        " # 2차 방정식의 점을 그린다.\n",
        " plt.plot(point, 1.01*point**2 - 21.6*point +116.05, color ='green')\n",
        "\n",
        " #50cm 농어 데이터\n",
        " plt.scatter(50,1574, marker='^')\n",
        " plt.xlabel('length')\n",
        " plt.ylabel('weight')\n",
        " plt.show()"
      ],
      "execution_count": 55,
      "outputs": [
        {
          "output_type": "display_data",
          "data": {
            "image/png": "[encoded data removed]",
            "text/plain": [
              "<Figure size 432x288 with 1 Axes>"
            ]
          },
          "metadata": {
            "tags": [],
            "needs_background": "light"
          }
        }
      ]
    },
    {
      "cell_type": "code",
      "metadata": {
        "colab": {
          "base_uri": "https://localhost:8080/"
        },
        "id": "9dKB52M4vNrC",
        "outputId": "d3b0c5c4-afe0-42e0-feb6-f1420ccd148e"
      },
      "source": [
        "print(lr.score(train_poly, train_target))\n",
        "print(lr.score(test_poly, test_target))"
      ],
      "execution_count": 57,
      "outputs": [
        {
          "output_type": "stream",
          "text": [
            "0.9706807451768623\n",
            "0.9775935108325122\n"
          ],
          "name": "stdout"
        }
      ]
    },
    {
      "cell_type": "markdown",
      "metadata": {
        "id": "fZvekCsTv1NK"
      },
      "source": [
        "테스트 score의 값이 0.007정도 더 높은 것으로 보아 아직도 과소적합이 남아 있음이 보인다."
      ]
    },
    {
      "cell_type": "markdown",
      "metadata": {
        "id": "GQpj6kOZwLBK"
      },
      "source": [
        "#### 특성 공학과 규제\n",
        "\n",
        "특성공학 (Featrue Engineering)\n",
        "\n",
        "기존의 특성을 사용하여 새로은 특성을 뽑아내는 작업"
      ]
    },
    {
      "cell_type": "code",
      "metadata": {
        "id": "WrOiPbEj4SY6"
      },
      "source": [
        "# 데이터 준비\n",
        "# 인터넷에서 바로 파일을 다운받아서 쓸 수 있는 판다스의 데이터프레임을 활용\n",
        "\n",
        "import pandas as pd\n",
        "df = pd.read_csv('https://bit.ly/perch_csv_data')"
      ],
      "execution_count": 59,
      "outputs": []
    },
    {
      "cell_type": "code",
      "metadata": {
        "colab": {
          "base_uri": "https://localhost:8080/",
          "height": 203
        },
        "id": "gPBrYdMb4jym",
        "outputId": "e1740370-9de2-424b-a423-d245f5496ca1"
      },
      "source": [
        "# 농어의 길이, 높이, 두께에 대한 데이터가 있음\n",
        "df.head()"
      ],
      "execution_count": 68,
      "outputs": [
        {
          "output_type": "execute_result",
          "data": {
            "text/html": [
              "<div>\n",
              "<style scoped>\n",
              "    .dataframe tbody tr th:only-of-type {\n",
              "        vertical-align: middle;\n",
              "    }\n",
              "\n",
              "    .dataframe tbody tr th {\n",
              "        vertical-align: top;\n",
              "    }\n",
              "\n",
              "    .dataframe thead th {\n",
              "        text-align: right;\n",
              "    }\n",
              "</style>\n",
              "<table border=\"1\" class=\"dataframe\">\n",
              "  <thead>\n",
              "    <tr style=\"text-align: right;\">\n",
              "      <th></th>\n",
              "      <th>length</th>\n",
              "      <th>height</th>\n",
              "      <th>width</th>\n",
              "    </tr>\n",
              "  </thead>\n",
              "  <tbody>\n",
              "    <tr>\n",
              "      <th>0</th>\n",
              "      <td>8.4</td>\n",
              "      <td>2.11</td>\n",
              "      <td>1.41</td>\n",
              "    </tr>\n",
              "    <tr>\n",
              "      <th>1</th>\n",
              "      <td>13.7</td>\n",
              "      <td>3.53</td>\n",
              "      <td>2.00</td>\n",
              "    </tr>\n",
              "    <tr>\n",
              "      <th>2</th>\n",
              "      <td>15.0</td>\n",
              "      <td>3.82</td>\n",
              "      <td>2.43</td>\n",
              "    </tr>\n",
              "    <tr>\n",
              "      <th>3</th>\n",
              "      <td>16.2</td>\n",
              "      <td>4.59</td>\n",
              "      <td>2.63</td>\n",
              "    </tr>\n",
              "    <tr>\n",
              "      <th>4</th>\n",
              "      <td>17.4</td>\n",
              "      <td>4.59</td>\n",
              "      <td>2.94</td>\n",
              "    </tr>\n",
              "  </tbody>\n",
              "</table>\n",
              "</div>"
            ],
            "text/plain": [
              "   length   height   width\n",
              "0     8.4     2.11    1.41\n",
              "1    13.7     3.53    2.00\n",
              "2    15.0     3.82    2.43\n",
              "3    16.2     4.59    2.63\n",
              "4    17.4     4.59    2.94"
            ]
          },
          "metadata": {
            "tags": []
          },
          "execution_count": 68
        }
      ]
    },
    {
      "cell_type": "code",
      "metadata": {
        "id": "3EvpmyXG4rk-"
      },
      "source": [
        "perch_full = df.to_numpy()\n",
        "print(perch_full)"
      ],
      "execution_count": null,
      "outputs": []
    },
    {
      "cell_type": "code",
      "metadata": {
        "id": "fyKiVR7_5Ogf"
      },
      "source": [
        "import numpy as np\n",
        "perch_weight = np.array([5.9, 32.0, 40.0, 51.5, 70.0, 100.0, 78.0, 80.0, 85.0, 85.0, 110.0,\n",
        "       115.0, 125.0, 130.0, 120.0, 120.0, 130.0, 135.0, 110.0, 130.0,\n",
        "       150.0, 145.0, 150.0, 170.0, 225.0, 145.0, 188.0, 180.0, 197.0,\n",
        "       218.0, 300.0, 260.0, 265.0, 250.0, 250.0, 300.0, 320.0, 514.0,\n",
        "       556.0, 840.0, 685.0, 700.0, 700.0, 690.0, 900.0, 650.0, 820.0,\n",
        "       850.0, 900.0, 1015.0, 820.0, 1100.0, 1000.0, 1100.0, 1000.0,\n",
        "       1000.0])"
      ],
      "execution_count": 76,
      "outputs": []
    },
    {
      "cell_type": "code",
      "metadata": {
        "id": "ICJqHxHM6PuO"
      },
      "source": [
        "# perch_full 데이터를 train,test데이터 input에 \n",
        "# perch_weight 데이터를 train, test데이터 target에 분할한다\n",
        "\n",
        "from sklearn.model_selection import train_test_split\n",
        "train_input, test_input, train_target, test_target = train_test_split(\n",
        "    perch_full, perch_weight,random_state =42 \n",
        ")"
      ],
      "execution_count": 77,
      "outputs": []
    },
    {
      "cell_type": "markdown",
      "metadata": {
        "id": "HL3B6D9h7fPO"
      },
      "source": [
        "#### 사이킷런의 변환기\n",
        "\n",
        "사이킷런은 특성을 만들거나 전처리하기 위한 다양한 클래스를 제공한다. 사이킷런에서는 이런 클래스를 변환기라고 부른다.\n",
        "\n",
        "사이킷런의 모델 클래스에 일관된 fit, score, predict 메서드가 있는 것처럼 \n",
        "변환기 클래스는 fit, transform메서드를 제공한다."
      ]
    },
    {
      "cell_type": "code",
      "metadata": {
        "colab": {
          "base_uri": "https://localhost:8080/"
        },
        "id": "jipezPRe8Q4G",
        "outputId": "f710097c-a0ec-4b00-ed01-903eb61e0556"
      },
      "source": [
        "from sklearn.preprocessing import PolynomialFeatures\n",
        "\n",
        "poly = PolynomialFeatures()\n",
        "poly.fit([[2,3]])\n",
        "print(poly.transform([[2,3]]))"
      ],
      "execution_count": 78,
      "outputs": [
        {
          "output_type": "stream",
          "text": [
            "[[1. 2. 3. 4. 6. 9.]]\n"
          ],
          "name": "stdout"
        }
      ]
    },
    {
      "cell_type": "code",
      "metadata": {
        "colab": {
          "base_uri": "https://localhost:8080/"
        },
        "id": "JH0pg2DI8jQz",
        "outputId": "6f362a55-88c7-4353-f1f4-ceeed8f58327"
      },
      "source": [
        "# PolynomialFeatures의 옵션 include_bias = False로 지정하면 절편 값은 반환하지 않는다.\n",
        "poly = PolynomialFeatures(include_bias = False)\n",
        "poly.fit([[2,3]])\n",
        "print(poly.transform([[2,3]]))"
      ],
      "execution_count": 79,
      "outputs": [
        {
          "output_type": "stream",
          "text": [
            "[[2. 3. 4. 6. 9.]]\n"
          ],
          "name": "stdout"
        }
      ]
    },
    {
      "cell_type": "code",
      "metadata": {
        "colab": {
          "base_uri": "https://localhost:8080/"
        },
        "id": "kO4_mpNF-G_-",
        "outputId": "013c5fc5-e1cf-40f5-a801-f8bbc2bfad06"
      },
      "source": [
        "# 이제 위 방식으로 train_input 데이터에 적용해보자\n",
        "poly.fit(train_input)\n",
        "train_poly = poly.transform(train_input)\n",
        "print(train_poly.shape)"
      ],
      "execution_count": 80,
      "outputs": [
        {
          "output_type": "stream",
          "text": [
            "(42, 9)\n"
          ],
          "name": "stdout"
        }
      ]
    },
    {
      "cell_type": "code",
      "metadata": {
        "colab": {
          "base_uri": "https://localhost:8080/"
        },
        "id": "aKcFDPgR-ZYW",
        "outputId": "ca1a0a27-3a4e-4ad8-903a-9d28c2a9dd3a"
      },
      "source": [
        "# get_feature_names() 메서드를 통해 9개의 특성이 각각 어떤 조합으로 만들어졌는지 알려준다.\n",
        "# x0: length, x1: height, x2: width\n",
        "poly.get_feature_names()"
      ],
      "execution_count": 81,
      "outputs": [
        {
          "output_type": "execute_result",
          "data": {
            "text/plain": [
              "['x0', 'x1', 'x2', 'x0^2', 'x0 x1', 'x0 x2', 'x1^2', 'x1 x2', 'x2^2']"
            ]
          },
          "metadata": {
            "tags": []
          },
          "execution_count": 81
        }
      ]
    },
    {
      "cell_type": "code",
      "metadata": {
        "id": "UR3HuyY2-dO8"
      },
      "source": [
        "# 이제 테스트 데이터를 변환\n",
        "# 위에서 구한 9개의 피쳐로 변환\n",
        "test_poly = poly.transform(test_input)"
      ],
      "execution_count": 82,
      "outputs": []
    },
    {
      "cell_type": "markdown",
      "metadata": {
        "id": "CiLTGEaK-8tN"
      },
      "source": [
        "#### 다중 회귀 모델 훈련하기\n",
        "\n",
        "다중 회귀 모델을 훈련하는 것은 선형 회귀모델을 훈련하는 것과 같다."
      ]
    },
    {
      "cell_type": "code",
      "metadata": {
        "colab": {
          "base_uri": "https://localhost:8080/"
        },
        "id": "e06m58rF_fhY",
        "outputId": "167433f2-5535-4371-f297-74bc12f81a37"
      },
      "source": [
        "from sklearn.linear_model import LinearRegression\n",
        "lr = LinearRegression()\n",
        "lr.fit(train_poly,train_target)"
      ],
      "execution_count": 84,
      "outputs": [
        {
          "output_type": "execute_result",
          "data": {
            "text/plain": [
              "LinearRegression(copy_X=True, fit_intercept=True, n_jobs=None, normalize=False)"
            ]
          },
          "metadata": {
            "tags": []
          },
          "execution_count": 84
        }
      ]
    },
    {
      "cell_type": "code",
      "metadata": {
        "colab": {
          "base_uri": "https://localhost:8080/"
        },
        "id": "TpyxF4ut_uwn",
        "outputId": "659543f8-27ac-4da4-efe1-ab97934b7d7d"
      },
      "source": [
        "print(lr.score(train_poly, train_target))\n",
        "print(lr.score(test_poly, test_target))"
      ],
      "execution_count": 86,
      "outputs": [
        {
          "output_type": "stream",
          "text": [
            "0.9903183436982124\n",
            "0.9714559911594132\n"
          ],
          "name": "stdout"
        }
      ]
    },
    {
      "cell_type": "markdown",
      "metadata": {
        "id": "irdgAKAQ_3uW"
      },
      "source": [
        "테스트 세트에 대한 점수는 높아지지 않았지만 농어의 길이만 사용했을 때 있던 과소적합 문제는 더이상 나타나지 않았다.\n",
        "\n",
        "그렇다면 단순히 특성의 개수가 늘어나면 이상적인 모델을 완성할 수 있을까?"
      ]
    },
    {
      "cell_type": "code",
      "metadata": {
        "colab": {
          "base_uri": "https://localhost:8080/"
        },
        "id": "h4gitKg1AO3K",
        "outputId": "a439266e-0c78-42f9-e1c7-0c21d601879e"
      },
      "source": [
        "# PolynomialFeatures의 degree의 매개변수를 사용하여 최대 차수를 지정할 수 있다.\n",
        "poly = PolynomialFeatures(degree=5, include_bias = False)\n",
        "poly.fit(train_input)\n",
        "train_poly = poly.transform(train_input)\n",
        "test_poly = poly.transform(test_input)\n",
        "print(train_poly.shape)"
      ],
      "execution_count": 92,
      "outputs": [
        {
          "output_type": "stream",
          "text": [
            "(42, 55)\n"
          ],
          "name": "stdout"
        }
      ]
    },
    {
      "cell_type": "code",
      "metadata": {
        "colab": {
          "base_uri": "https://localhost:8080/"
        },
        "id": "nWkY2B9ABPMo",
        "outputId": "5974c758-4756-4b84-e920-29b68975480d"
      },
      "source": [
        "lr.fit(train_poly, train_target)\n",
        "print(lr.score(train_poly, train_target))\n",
        "print(lr.score(test_poly, test_target))"
      ],
      "execution_count": 93,
      "outputs": [
        {
          "output_type": "stream",
          "text": [
            "0.9999999999991096\n",
            "-144.40579242335605\n"
          ],
          "name": "stdout"
        }
      ]
    },
    {
      "cell_type": "markdown",
      "metadata": {
        "id": "XeSMhOF4Be8b"
      },
      "source": [
        "단순히 특성의 개수가 늘어나는 것은 과대적합의 문제를 발생시킬 수 있다.\n",
        "\n",
        "따라서, 모델을 잘 구슬려서 최적의 값을 찾게 만들어야 한다."
      ]
    },
    {
      "cell_type": "markdown",
      "metadata": {
        "id": "uytwPsF1CDGr"
      },
      "source": [
        "#### 규제 (Regulataion)\n",
        "\n",
        "머신러닝 모델이 훈련세트를 너무 과도하게 학습하지 못하도록 훼방하는 것.\n",
        "\n",
        "선형 회귀 모델의 경우 특성에 곱해지는 계수의 크기를 작게 만든다.\n"
      ]
    },
    {
      "cell_type": "code",
      "metadata": {
        "id": "awNkyCa3CKWv"
      },
      "source": [
        "from sklearn.preprocessing import StandardScaler\n",
        "ss = StandardScaler()\n",
        "ss.fit(train_poly)\n",
        "train_scaled = ss.transform(train_poly)\n",
        "test_scaled = ss.transform(test_poly)\n"
      ],
      "execution_count": 94,
      "outputs": []
    },
    {
      "cell_type": "markdown",
      "metadata": {
        "id": "389CwT1nEXZJ"
      },
      "source": [
        "선형 회귀 모델에 규제를 추가한 모델을 **릿지(RIdge)** 와 **라쏘(Lasso)** 라고 부릅니다.\n",
        "\n",
        "릿지는 계수를 **제곱한 값**으로 규제를 적용하고\n",
        "\n",
        "라쏘는 계수의 **절댓값**을 기준으로 규제를 적용한다.\n",
        "\n",
        "일반적으로는 릿지를 조금 더 선호한다. 라쏘는 계수의 크기를 아예 0으로 만들 수 있기 떄문.\n"
      ]
    },
    {
      "cell_type": "markdown",
      "metadata": {
        "id": "NPAPfM94FY3S"
      },
      "source": [
        "#### 릿지 회귀"
      ]
    },
    {
      "cell_type": "code",
      "metadata": {
        "colab": {
          "base_uri": "https://localhost:8080/"
        },
        "id": "_VCWhQ9bFcPb",
        "outputId": "9008e817-0f21-4842-cceb-3d4ad7f92e75"
      },
      "source": [
        "from sklearn.linear_model import Ridge\n",
        "ridge = Ridge()\n",
        "ridge.fit(train_scaled, train_target)\n",
        "print(ridge.score(train_scaled, train_target))\n",
        "print(ridge.score(test_scaled, test_target))"
      ],
      "execution_count": 96,
      "outputs": [
        {
          "output_type": "stream",
          "text": [
            "0.9896101671037343\n",
            "0.9790693977615398\n"
          ],
          "name": "stdout"
        }
      ]
    },
    {
      "cell_type": "markdown",
      "metadata": {
        "id": "NhFcMub7FsGM"
      },
      "source": [
        "확실히 55개의 특성을 활용했지만 너무 과대적합되지 않아 테스트 세트에서도 좋은 성능을 내고 있다.\n",
        "\n"
      ]
    },
    {
      "cell_type": "markdown",
      "metadata": {
        "id": "pAVNt0npGlqY"
      },
      "source": [
        "릿지와 라쏘 모델을 사용할 때 규제의 양을 임의로 조절할 수 있다.\n",
        "\n",
        "모델 객체를 만들 떄 alpha 매개변수로 규제의 강도를 조절한다.\n",
        "\n",
        "alpha 값이 크면 규제 강도가 세지므로 계수 값을 줄이고 과소적합되도록 유도.\n",
        "\n",
        "alpha 값이 작으면 계수를 줄이는 역할이 줄어들고 과대적합될 가능성이 크다."
      ]
    },
    {
      "cell_type": "markdown",
      "metadata": {
        "id": "zay803QrGq7m"
      },
      "source": [
        "**하이퍼파라미터**\n",
        "\n",
        "alpha 값과 같이 모델이 학습해서 계산해내는 값이 아니라 사전에 사람이 지정해야 하는 값. "
      ]
    },
    {
      "cell_type": "markdown",
      "metadata": {
        "id": "t67o5KpJG9H_"
      },
      "source": [
        "적절한 alpha 값을 찾는 한 가지 방법은 alpha 값에 대한 $R^2$값의 그래프를 그려 보는 것이다.\n",
        "\n",
        "훈련 세트와 테스트 세트의 점수가 가장 가까운 지점이 최적의 alpha 값이 된다."
      ]
    },
    {
      "cell_type": "code",
      "metadata": {
        "id": "o41XM1x9HSki"
      },
      "source": [
        "import matplotlib.pyplot as plt\n",
        "train_score = []\n",
        "test_score = []\n",
        "\n",
        "alpha_list = [0.001,0.01,0.1,1,10,100]\n",
        "for a in alpha_list:\n",
        "  ridge = Ridge(alpha=a)\n",
        "  ridge.fit(train_scaled, train_target)\n",
        "  train_score.append(ridge.score(train_scaled, train_target))\n",
        "  test_score.append(ridge.score(test_scaled, test_target))"
      ],
      "execution_count": 99,
      "outputs": []
    },
    {
      "cell_type": "code",
      "metadata": {
        "colab": {
          "base_uri": "https://localhost:8080/",
          "height": 279
        },
        "id": "23ozU0NpH4VX",
        "outputId": "f7b5ed01-d617-4263-f701-b527c48ee76f"
      },
      "source": [
        "plt.plot(np.log10(alpha_list), train_score)\n",
        "plt.plot(np.log10(alpha_list), test_score)\n",
        "plt.xlabel('alpha')\n",
        "plt.ylabel('R^2')\n",
        "plt.show()"
      ],
      "execution_count": 103,
      "outputs": [
        {
          "output_type": "display_data",
          "data": {
            "image/png": "[encoded data removed]",
            "text/plain": [
              "<Figure size 432x288 with 1 Axes>"
            ]
          },
          "metadata": {
            "tags": [],
            "needs_background": "light"
          }
        }
      ]
    },
    {
      "cell_type": "markdown",
      "metadata": {
        "id": "YVzSwJOuIDnQ"
      },
      "source": [
        "plot 에서 위 그래프는 train 셋. 아래는 test 셋 그래프이다.\n",
        "\n",
        "이 그래프를 보면 -1 (alpha = 0.1)이 alpha의 최적값이라고 할 수 있다."
      ]
    },
    {
      "cell_type": "code",
      "metadata": {
        "colab": {
          "base_uri": "https://localhost:8080/"
        },
        "id": "fKC_X4U1IxoX",
        "outputId": "6a9e85b3-ec86-4592-ad7f-30f49ec805fe"
      },
      "source": [
        "# alpha 값을 0.1로 두고 모델 훈련하기\n",
        "ridge = Ridge(alpha=0.1)\n",
        "ridge.fit(train_scaled, train_target)\n",
        "print(ridge.score(train_scaled, train_target))\n",
        "print(ridge.score(test_scaled, test_target))"
      ],
      "execution_count": 105,
      "outputs": [
        {
          "output_type": "stream",
          "text": [
            "0.9903815817570366\n",
            "0.9827976465386927\n"
          ],
          "name": "stdout"
        }
      ]
    },
    {
      "cell_type": "markdown",
      "metadata": {
        "id": "th6eYLxHI-jS"
      },
      "source": [
        "#### 릿지 회귀\n"
      ]
    },
    {
      "cell_type": "code",
      "metadata": {
        "colab": {
          "base_uri": "https://localhost:8080/"
        },
        "id": "p80TqzVRJWZE",
        "outputId": "fd92093b-0bba-408f-ed1e-1f908ca6de01"
      },
      "source": [
        "from sklearn.linear_model import Lasso\n",
        "lasso = Lasso()\n",
        "lasso.fit(train_scaled, train_target)\n",
        "print(lasso.score(train_scaled, train_target))\n",
        "print(lasso.score(test_scaled, test_target))\n"
      ],
      "execution_count": 109,
      "outputs": [
        {
          "output_type": "stream",
          "text": [
            "0.9897898972080961\n",
            "0.9800593698421883\n"
          ],
          "name": "stdout"
        }
      ]
    },
    {
      "cell_type": "code",
      "metadata": {
        "colab": {
          "base_uri": "https://localhost:8080/",
          "height": 370
        },
        "id": "KGELYA1vJezq",
        "outputId": "285f04de-ec9c-4f85-9e37-d0129d4d569d"
      },
      "source": [
        "import matplotlib.pyplot as plt\n",
        "train_score = []\n",
        "test_score = []\n",
        "\n",
        "alpha_list = [0.001,0.01,0.1,1,10,100]\n",
        "for a in alpha_list:\n",
        "  lasso = Lasso(alpha=a, max_iter = 10000)\n",
        "  lasso.fit(train_scaled, train_target)\n",
        "  train_score.append(lasso.score(train_scaled, train_target))\n",
        "  test_score.append(lasso.score(test_scaled, test_target))\n",
        "\n",
        "plt.plot(np.log10(alpha_list), train_score)\n",
        "plt.plot(np.log10(alpha_list), test_score)\n",
        "plt.xlabel('alpha')\n",
        "plt.ylabel('R^2')\n",
        "plt.show()"
      ],
      "execution_count": 111,
      "outputs": [
        {
          "output_type": "stream",
          "text": [
            "/usr/local/lib/python3.7/dist-packages/sklearn/linear_model/_coordinate_descent.py:476: ConvergenceWarning: Objective did not converge. You might want to increase the number of iterations. Duality gap: 18778.697957792876, tolerance: 518.2793833333334\n",
            "  positive)\n",
            "/usr/local/lib/python3.7/dist-packages/sklearn/linear_model/_coordinate_descent.py:476: ConvergenceWarning: Objective did not converge. You might want to increase the number of iterations. Duality gap: 12972.821345404844, tolerance: 518.2793833333334\n",
            "  positive)\n"
          ],
          "name": "stderr"
        },
        {
          "output_type": "display_data",
          "data": {
            "image/png": "[encoded data removed]",
            "text/plain": [
              "<Figure size 432x288 with 1 Axes>"
            ]
          },
          "metadata": {
            "tags": [],
            "needs_background": "light"
          }
        }
      ]
    },
    {
      "cell_type": "markdown",
      "metadata": {
        "id": "vvCa3DUaJ1HL"
      },
      "source": [
        "이 그래프에서도 왼쪽은 과대적합을 보여주고 있고, 오른쪽으로 갈수록 훈련 세트와 테스트 세트의 점수가 좁혀지고 있다.\n",
        "\n",
        "라쏘 모델에서의 최적 alpha 값은 10 이다."
      ]
    },
    {
      "cell_type": "code",
      "metadata": {
        "colab": {
          "base_uri": "https://localhost:8080/"
        },
        "id": "pQqZLPbbKRUP",
        "outputId": "41bc1d3b-fecd-427e-ce39-de4c7011ddc2"
      },
      "source": [
        "# alpha 값을 10로 두고 모델 훈련하기\n",
        "lasso = Lasso(alpha=10)\n",
        "lasso.fit(train_scaled, train_target)\n",
        "print(lasso.score(train_scaled, train_target))\n",
        "print(lasso.score(test_scaled, test_target))"
      ],
      "execution_count": 112,
      "outputs": [
        {
          "output_type": "stream",
          "text": [
            "0.9888067471131867\n",
            "0.9824470598706695\n"
          ],
          "name": "stdout"
        }
      ]
    },
    {
      "cell_type": "code",
      "metadata": {
        "colab": {
          "base_uri": "https://localhost:8080/"
        },
        "id": "HDXeRUr2KarM",
        "outputId": "dedca654-df98-45d6-ac8f-ff5ba0527c16"
      },
      "source": [
        "# 라쏘 모델 중에서 계수의 값이 0 인것을 세보지\n",
        "print(np.sum(lasso.coef_ ==0 ))"
      ],
      "execution_count": 114,
      "outputs": [
        {
          "output_type": "stream",
          "text": [
            "40\n"
          ],
          "name": "stdout"
        }
      ]
    },
    {
      "cell_type": "code",
      "metadata": {
        "id": "x0FWSN6GKkIY"
      },
      "source": [
        ""
      ],
      "execution_count": null,
      "outputs": []
    }
  ]
}