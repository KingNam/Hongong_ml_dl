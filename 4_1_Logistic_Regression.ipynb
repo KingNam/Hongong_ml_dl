{
  "nbformat": 4,
  "nbformat_minor": 0,
  "metadata": {
    "colab": {
      "name": "4_1_Logistic Regression",
      "provenance": [],
      "collapsed_sections": [
        "70g7Rl1mc9jG"
      ],
      "authorship_tag": "ABX9TyP3s834pQ2HyCSXvecfHMj2",
      "include_colab_link": true
    },
    "kernelspec": {
      "name": "python3",
      "display_name": "Python 3"
    },
    "language_info": {
      "name": "python"
    }
  },
  "cells": [
    {
      "cell_type": "markdown",
      "metadata": {
        "id": "view-in-github",
        "colab_type": "text"
      },
      "source": [
        "<a href=\"https://colab.research.google.com/github/KingNam/Hongong_ml_dl/blob/main/4_1_Logistic_Regression.ipynb\" target=\"_parent\"><img src=\"https://colab.research.google.com/assets/colab-badge.svg\" alt=\"Open In Colab\"/></a>"
      ]
    },
    {
      "cell_type": "markdown",
      "metadata": {
        "id": "hh4etYOFTQip"
      },
      "source": [
        "KNN을 활용하여 7개의 생선데이터를 분류하기\n",
        "\n",
        "\"주변 샘플 주위의 가장 가까운 이웃 샘플의 클래스를 확률로 삼는다\""
      ]
    },
    {
      "cell_type": "code",
      "metadata": {
        "colab": {
          "base_uri": "https://localhost:8080/",
          "height": 203
        },
        "id": "hFRw8CodTv6W",
        "outputId": "4814ac6b-9b44-4e33-8025-ebe7e8926fa5"
      },
      "source": [
        "# Species: 종\n",
        "# Weight: 무게\n",
        "# Length: 길이\n",
        "# Diagonal: 대각선 길이\n",
        "# Height: 높이\n",
        "# Width: 너비\n",
        "\n",
        "import pandas as pd\n",
        "fish = pd.read_csv('https://bit.ly/fish_csv_data')\n",
        "fish.head()"
      ],
      "execution_count": null,
      "outputs": [
        {
          "output_type": "execute_result",
          "data": {
            "text/html": [
              "<div>\n",
              "<style scoped>\n",
              "    .dataframe tbody tr th:only-of-type {\n",
              "        vertical-align: middle;\n",
              "    }\n",
              "\n",
              "    .dataframe tbody tr th {\n",
              "        vertical-align: top;\n",
              "    }\n",
              "\n",
              "    .dataframe thead th {\n",
              "        text-align: right;\n",
              "    }\n",
              "</style>\n",
              "<table border=\"1\" class=\"dataframe\">\n",
              "  <thead>\n",
              "    <tr style=\"text-align: right;\">\n",
              "      <th></th>\n",
              "      <th>Species</th>\n",
              "      <th>Weight</th>\n",
              "      <th>Length</th>\n",
              "      <th>Diagonal</th>\n",
              "      <th>Height</th>\n",
              "      <th>Width</th>\n",
              "    </tr>\n",
              "  </thead>\n",
              "  <tbody>\n",
              "    <tr>\n",
              "      <th>0</th>\n",
              "      <td>Bream</td>\n",
              "      <td>242.0</td>\n",
              "      <td>25.4</td>\n",
              "      <td>30.0</td>\n",
              "      <td>11.5200</td>\n",
              "      <td>4.0200</td>\n",
              "    </tr>\n",
              "    <tr>\n",
              "      <th>1</th>\n",
              "      <td>Bream</td>\n",
              "      <td>290.0</td>\n",
              "      <td>26.3</td>\n",
              "      <td>31.2</td>\n",
              "      <td>12.4800</td>\n",
              "      <td>4.3056</td>\n",
              "    </tr>\n",
              "    <tr>\n",
              "      <th>2</th>\n",
              "      <td>Bream</td>\n",
              "      <td>340.0</td>\n",
              "      <td>26.5</td>\n",
              "      <td>31.1</td>\n",
              "      <td>12.3778</td>\n",
              "      <td>4.6961</td>\n",
              "    </tr>\n",
              "    <tr>\n",
              "      <th>3</th>\n",
              "      <td>Bream</td>\n",
              "      <td>363.0</td>\n",
              "      <td>29.0</td>\n",
              "      <td>33.5</td>\n",
              "      <td>12.7300</td>\n",
              "      <td>4.4555</td>\n",
              "    </tr>\n",
              "    <tr>\n",
              "      <th>4</th>\n",
              "      <td>Bream</td>\n",
              "      <td>430.0</td>\n",
              "      <td>29.0</td>\n",
              "      <td>34.0</td>\n",
              "      <td>12.4440</td>\n",
              "      <td>5.1340</td>\n",
              "    </tr>\n",
              "  </tbody>\n",
              "</table>\n",
              "</div>"
            ],
            "text/plain": [
              "  Species  Weight  Length  Diagonal   Height   Width\n",
              "0   Bream   242.0    25.4      30.0  11.5200  4.0200\n",
              "1   Bream   290.0    26.3      31.2  12.4800  4.3056\n",
              "2   Bream   340.0    26.5      31.1  12.3778  4.6961\n",
              "3   Bream   363.0    29.0      33.5  12.7300  4.4555\n",
              "4   Bream   430.0    29.0      34.0  12.4440  5.1340"
            ]
          },
          "metadata": {
            "tags": []
          },
          "execution_count": 144
        }
      ]
    },
    {
      "cell_type": "code",
      "metadata": {
        "colab": {
          "base_uri": "https://localhost:8080/"
        },
        "id": "7p-X0RKWT5zt",
        "outputId": "a99d34f4-40ea-4d64-a17c-7da2188ca5ed"
      },
      "source": [
        "# 물고기 종류가 어떤 종류가 있는지 살펴보기\n",
        "print(pd.unique(fish['Species']))"
      ],
      "execution_count": null,
      "outputs": [
        {
          "output_type": "stream",
          "text": [
            "['Bream' 'Roach' 'Whitefish' 'Parkki' 'Perch' 'Pike' 'Smelt']\n"
          ],
          "name": "stdout"
        }
      ]
    },
    {
      "cell_type": "code",
      "metadata": {
        "colab": {
          "base_uri": "https://localhost:8080/",
          "height": 203
        },
        "id": "5N5u3bXpUUGv",
        "outputId": "54ce0740-7720-469b-ddd0-ed277d4a10e8"
      },
      "source": [
        "# 데이터프레임에서 원하는 열을 선택하기\n",
        "# 1. 칼럼의 이름을 입력하여 직접 선택하는 방식\n",
        "fish[['Species','Weight','Height','Width']].head()"
      ],
      "execution_count": null,
      "outputs": [
        {
          "output_type": "execute_result",
          "data": {
            "text/html": [
              "<div>\n",
              "<style scoped>\n",
              "    .dataframe tbody tr th:only-of-type {\n",
              "        vertical-align: middle;\n",
              "    }\n",
              "\n",
              "    .dataframe tbody tr th {\n",
              "        vertical-align: top;\n",
              "    }\n",
              "\n",
              "    .dataframe thead th {\n",
              "        text-align: right;\n",
              "    }\n",
              "</style>\n",
              "<table border=\"1\" class=\"dataframe\">\n",
              "  <thead>\n",
              "    <tr style=\"text-align: right;\">\n",
              "      <th></th>\n",
              "      <th>Species</th>\n",
              "      <th>Weight</th>\n",
              "      <th>Height</th>\n",
              "      <th>Width</th>\n",
              "    </tr>\n",
              "  </thead>\n",
              "  <tbody>\n",
              "    <tr>\n",
              "      <th>0</th>\n",
              "      <td>Bream</td>\n",
              "      <td>242.0</td>\n",
              "      <td>11.5200</td>\n",
              "      <td>4.0200</td>\n",
              "    </tr>\n",
              "    <tr>\n",
              "      <th>1</th>\n",
              "      <td>Bream</td>\n",
              "      <td>290.0</td>\n",
              "      <td>12.4800</td>\n",
              "      <td>4.3056</td>\n",
              "    </tr>\n",
              "    <tr>\n",
              "      <th>2</th>\n",
              "      <td>Bream</td>\n",
              "      <td>340.0</td>\n",
              "      <td>12.3778</td>\n",
              "      <td>4.6961</td>\n",
              "    </tr>\n",
              "    <tr>\n",
              "      <th>3</th>\n",
              "      <td>Bream</td>\n",
              "      <td>363.0</td>\n",
              "      <td>12.7300</td>\n",
              "      <td>4.4555</td>\n",
              "    </tr>\n",
              "    <tr>\n",
              "      <th>4</th>\n",
              "      <td>Bream</td>\n",
              "      <td>430.0</td>\n",
              "      <td>12.4440</td>\n",
              "      <td>5.1340</td>\n",
              "    </tr>\n",
              "  </tbody>\n",
              "</table>\n",
              "</div>"
            ],
            "text/plain": [
              "  Species  Weight   Height   Width\n",
              "0   Bream   242.0  11.5200  4.0200\n",
              "1   Bream   290.0  12.4800  4.3056\n",
              "2   Bream   340.0  12.3778  4.6961\n",
              "3   Bream   363.0  12.7300  4.4555\n",
              "4   Bream   430.0  12.4440  5.1340"
            ]
          },
          "metadata": {
            "tags": []
          },
          "execution_count": 146
        }
      ]
    },
    {
      "cell_type": "code",
      "metadata": {
        "colab": {
          "base_uri": "https://localhost:8080/",
          "height": 110
        },
        "id": "OpLJj68oUplV",
        "outputId": "d8fcf2be-7782-481e-eb2c-6a141cd4d302"
      },
      "source": [
        "# 2. iloc 를 활용하여 리스트 인덱싱, 슬라이싱으로 원하는 데이터를 가져오기\n",
        "fish.iloc[2:4,2:4]"
      ],
      "execution_count": null,
      "outputs": [
        {
          "output_type": "execute_result",
          "data": {
            "text/html": [
              "<div>\n",
              "<style scoped>\n",
              "    .dataframe tbody tr th:only-of-type {\n",
              "        vertical-align: middle;\n",
              "    }\n",
              "\n",
              "    .dataframe tbody tr th {\n",
              "        vertical-align: top;\n",
              "    }\n",
              "\n",
              "    .dataframe thead th {\n",
              "        text-align: right;\n",
              "    }\n",
              "</style>\n",
              "<table border=\"1\" class=\"dataframe\">\n",
              "  <thead>\n",
              "    <tr style=\"text-align: right;\">\n",
              "      <th></th>\n",
              "      <th>Length</th>\n",
              "      <th>Diagonal</th>\n",
              "    </tr>\n",
              "  </thead>\n",
              "  <tbody>\n",
              "    <tr>\n",
              "      <th>2</th>\n",
              "      <td>26.5</td>\n",
              "      <td>31.1</td>\n",
              "    </tr>\n",
              "    <tr>\n",
              "      <th>3</th>\n",
              "      <td>29.0</td>\n",
              "      <td>33.5</td>\n",
              "    </tr>\n",
              "  </tbody>\n",
              "</table>\n",
              "</div>"
            ],
            "text/plain": [
              "   Length  Diagonal\n",
              "2    26.5      31.1\n",
              "3    29.0      33.5"
            ]
          },
          "metadata": {
            "tags": []
          },
          "execution_count": 147
        }
      ]
    },
    {
      "cell_type": "code",
      "metadata": {
        "colab": {
          "base_uri": "https://localhost:8080/",
          "height": 110
        },
        "id": "yrf7ZqDNUzpz",
        "outputId": "e71e78a6-18bb-41d7-c993-18aa9d23225a"
      },
      "source": [
        "# 3. loc를 활용하여 데이터 가져오기. \n",
        "fish.loc[[2,3],['Length','Diagonal']]"
      ],
      "execution_count": null,
      "outputs": [
        {
          "output_type": "execute_result",
          "data": {
            "text/html": [
              "<div>\n",
              "<style scoped>\n",
              "    .dataframe tbody tr th:only-of-type {\n",
              "        vertical-align: middle;\n",
              "    }\n",
              "\n",
              "    .dataframe tbody tr th {\n",
              "        vertical-align: top;\n",
              "    }\n",
              "\n",
              "    .dataframe thead th {\n",
              "        text-align: right;\n",
              "    }\n",
              "</style>\n",
              "<table border=\"1\" class=\"dataframe\">\n",
              "  <thead>\n",
              "    <tr style=\"text-align: right;\">\n",
              "      <th></th>\n",
              "      <th>Length</th>\n",
              "      <th>Diagonal</th>\n",
              "    </tr>\n",
              "  </thead>\n",
              "  <tbody>\n",
              "    <tr>\n",
              "      <th>2</th>\n",
              "      <td>26.5</td>\n",
              "      <td>31.1</td>\n",
              "    </tr>\n",
              "    <tr>\n",
              "      <th>3</th>\n",
              "      <td>29.0</td>\n",
              "      <td>33.5</td>\n",
              "    </tr>\n",
              "  </tbody>\n",
              "</table>\n",
              "</div>"
            ],
            "text/plain": [
              "   Length  Diagonal\n",
              "2    26.5      31.1\n",
              "3    29.0      33.5"
            ]
          },
          "metadata": {
            "tags": []
          },
          "execution_count": 148
        }
      ]
    },
    {
      "cell_type": "markdown",
      "metadata": {
        "id": "7nmc3P9WV_Eo"
      },
      "source": [
        "loc 와 iloc의 자세한 차이는 링크 참고\n",
        "[loc vs iloc](https://towardsdatascience.com/how-to-use-loc-and-iloc-for-selecting-data-in-pandas-bd09cb4c3d79)"
      ]
    },
    {
      "cell_type": "code",
      "metadata": {
        "id": "WxAjdk3wXrFP"
      },
      "source": [
        "# 타겟 데이터인 Species를 제외하고 나머지 열을 input 데이터로 설정하기\n",
        "# 그리고 df 를 넘파이 array로 변환\n",
        "#fish_input = fish[['Weight','Length','Diagonal','Height','Width']].to_numpy()\n",
        "fish_input = fish.iloc[:,1:].to_numpy()\n",
        "#print(fish_input)"
      ],
      "execution_count": null,
      "outputs": []
    },
    {
      "cell_type": "code",
      "metadata": {
        "colab": {
          "base_uri": "https://localhost:8080/"
        },
        "id": "m8yBndckYcnv",
        "outputId": "a9e335b2-0136-4fcd-8cff-32a692d2e7a1"
      },
      "source": [
        "# 타겟 데이터 만들기\n",
        "fish_target = fish['Species'].to_numpy()\n",
        "print(fish_target)"
      ],
      "execution_count": null,
      "outputs": [
        {
          "output_type": "stream",
          "text": [
            "['Bream' 'Bream' 'Bream' 'Bream' 'Bream' 'Bream' 'Bream' 'Bream' 'Bream'\n",
            " 'Bream' 'Bream' 'Bream' 'Bream' 'Bream' 'Bream' 'Bream' 'Bream' 'Bream'\n",
            " 'Bream' 'Bream' 'Bream' 'Bream' 'Bream' 'Bream' 'Bream' 'Bream' 'Bream'\n",
            " 'Bream' 'Bream' 'Bream' 'Bream' 'Bream' 'Bream' 'Bream' 'Bream' 'Roach'\n",
            " 'Roach' 'Roach' 'Roach' 'Roach' 'Roach' 'Roach' 'Roach' 'Roach' 'Roach'\n",
            " 'Roach' 'Roach' 'Roach' 'Roach' 'Roach' 'Roach' 'Roach' 'Roach' 'Roach'\n",
            " 'Roach' 'Whitefish' 'Whitefish' 'Whitefish' 'Whitefish' 'Whitefish'\n",
            " 'Whitefish' 'Parkki' 'Parkki' 'Parkki' 'Parkki' 'Parkki' 'Parkki'\n",
            " 'Parkki' 'Parkki' 'Parkki' 'Parkki' 'Parkki' 'Perch' 'Perch' 'Perch'\n",
            " 'Perch' 'Perch' 'Perch' 'Perch' 'Perch' 'Perch' 'Perch' 'Perch' 'Perch'\n",
            " 'Perch' 'Perch' 'Perch' 'Perch' 'Perch' 'Perch' 'Perch' 'Perch' 'Perch'\n",
            " 'Perch' 'Perch' 'Perch' 'Perch' 'Perch' 'Perch' 'Perch' 'Perch' 'Perch'\n",
            " 'Perch' 'Perch' 'Perch' 'Perch' 'Perch' 'Perch' 'Perch' 'Perch' 'Perch'\n",
            " 'Perch' 'Perch' 'Perch' 'Perch' 'Perch' 'Perch' 'Perch' 'Perch' 'Perch'\n",
            " 'Perch' 'Perch' 'Perch' 'Perch' 'Perch' 'Perch' 'Perch' 'Perch' 'Pike'\n",
            " 'Pike' 'Pike' 'Pike' 'Pike' 'Pike' 'Pike' 'Pike' 'Pike' 'Pike' 'Pike'\n",
            " 'Pike' 'Pike' 'Pike' 'Pike' 'Pike' 'Pike' 'Smelt' 'Smelt' 'Smelt' 'Smelt'\n",
            " 'Smelt' 'Smelt' 'Smelt' 'Smelt' 'Smelt' 'Smelt' 'Smelt' 'Smelt' 'Smelt'\n",
            " 'Smelt']\n"
          ],
          "name": "stdout"
        }
      ]
    },
    {
      "cell_type": "code",
      "metadata": {
        "id": "7WJoXtZoYxlM"
      },
      "source": [
        "# Seed를 42로 두고 train dataset과 test dataset으로 데이터를 나누기\n",
        "from sklearn.model_selection import train_test_split\n",
        "train_input, test_input, train_target, test_target = train_test_split(\n",
        "    fish_input, fish_target, random_state = 42\n",
        ")"
      ],
      "execution_count": null,
      "outputs": []
    },
    {
      "cell_type": "code",
      "metadata": {
        "id": "sMFx-VteYzOd"
      },
      "source": [
        "# 각 dataset을 표준화 전처리\n",
        "from sklearn.preprocessing import StandardScaler\n",
        "ss = StandardScaler()\n",
        "ss.fit(train_input)\n",
        "train_scaled = ss.transform(train_input)\n",
        "test_scaled = ss.transform(test_input)"
      ],
      "execution_count": null,
      "outputs": []
    },
    {
      "cell_type": "code",
      "metadata": {
        "colab": {
          "base_uri": "https://localhost:8080/"
        },
        "id": "LajbTZaxZrsA",
        "outputId": "fd634df5-d53a-4f65-c294-33a5a0a296f5"
      },
      "source": [
        "# KNN을 이용하여 클래스를 학습시키고 예측하기\n",
        "from sklearn.neighbors import KNeighborsClassifier\n",
        "kn = KNeighborsClassifier(n_neighbors = 3)\n",
        "# 클래스 kn을 학습\n",
        "kn.fit(train_scaled,train_target)\n",
        "print(kn.score(train_scaled, train_target))\n",
        "print(kn.score(test_scaled, test_target))"
      ],
      "execution_count": null,
      "outputs": [
        {
          "output_type": "stream",
          "text": [
            "0.8907563025210085\n",
            "0.85\n"
          ],
          "name": "stdout"
        }
      ]
    },
    {
      "cell_type": "markdown",
      "metadata": {
        "id": "lwQkQS9JaMVS"
      },
      "source": [
        "# 다중 분류(Multi - Class classification)\n",
        "\n",
        "위와 같이 타깃 데이터에 2개 이상의 클래스가 포함된 문제를 **다중분류** 라고 한다.\n",
        "\n",
        "방식은 이진분류와 같이 적절한 점수가 나올때까지 학습키고 예측하는 것과 같다. 사이킷런에서는 문자열로된 타깃값도 변환하지 않고 그대로 사용이 가능하다.\n",
        "\n",
        "그러나, 타깃값을 그대로 모델에 전달하면 자동으로 알파벳 순으로 매겨진다.\n",
        "\n",
        "차이는 아래와 같다."
      ]
    },
    {
      "cell_type": "code",
      "metadata": {
        "colab": {
          "base_uri": "https://localhost:8080/"
        },
        "id": "iUfUs8q3bJ5N",
        "outputId": "5f58f5a6-fd75-4bd6-9d5d-8093ec8fe294"
      },
      "source": [
        "# 타깃 데이터에 들어있는 종의 순서\n",
        "print(pd.unique(fish['Species']))\n",
        "# 사이킷런에서 모델학습을 위해 전달한 데이터의 순서\n",
        "print(kn.classes_)"
      ],
      "execution_count": null,
      "outputs": [
        {
          "output_type": "stream",
          "text": [
            "['Bream' 'Roach' 'Whitefish' 'Parkki' 'Perch' 'Pike' 'Smelt']\n",
            "['Bream' 'Parkki' 'Perch' 'Pike' 'Roach' 'Smelt' 'Whitefish']\n"
          ],
          "name": "stdout"
        }
      ]
    },
    {
      "cell_type": "markdown",
      "metadata": {
        "id": "u5PHTN4xbiAM"
      },
      "source": [
        "두 리스트의 나열순서는 다르다."
      ]
    },
    {
      "cell_type": "code",
      "metadata": {
        "colab": {
          "base_uri": "https://localhost:8080/"
        },
        "id": "Lsx-RbdcbzvV",
        "outputId": "335a0757-2b44-45e7-db91-05be779a3aa7"
      },
      "source": [
        "# 테스트 데이터를 활용해 값을 예측해보기\n",
        "print(kn.predict(test_scaled[:5]))"
      ],
      "execution_count": null,
      "outputs": [
        {
          "output_type": "stream",
          "text": [
            "['Perch' 'Smelt' 'Pike' 'Perch' 'Perch']\n"
          ],
          "name": "stdout"
        }
      ]
    },
    {
      "cell_type": "code",
      "metadata": {
        "colab": {
          "base_uri": "https://localhost:8080/"
        },
        "id": "8iv7yoUjcGII",
        "outputId": "9525984f-d886-4f1f-a09c-ec0ab5250e68"
      },
      "source": [
        "# 위의 값이 어떻게 예측되었는지를 살펴보기 위해 계산된 확률표를 확인하기\n",
        "import numpy as np\n",
        "proba = kn.predict_proba(test_scaled[:5])\n",
        "print(np.round(proba,4))"
      ],
      "execution_count": null,
      "outputs": [
        {
          "output_type": "stream",
          "text": [
            "[[0.     0.     1.     0.     0.     0.     0.    ]\n",
            " [0.     0.     0.     0.     0.     1.     0.    ]\n",
            " [0.     0.     0.     1.     0.     0.     0.    ]\n",
            " [0.     0.     0.6667 0.     0.3333 0.     0.    ]\n",
            " [0.     0.     0.6667 0.     0.3333 0.     0.    ]]\n"
          ],
          "name": "stdout"
        }
      ]
    },
    {
      "cell_type": "markdown",
      "metadata": {
        "id": "QucioZ7EckHh"
      },
      "source": [
        "이 값에서 가장 확률이 높은 것으로 예측한다\n",
        "\n",
        "예를 들어, 첫번째 행에서는 Perch 열에서 1값을 보이므로 Perch라고 예측\n",
        "\n",
        "네번째, 다섯번째 행에서는 Perch 값이 0.666.. 으로 가장 높은 확률을 보이므로 Perch 라고 예측"
      ]
    },
    {
      "cell_type": "markdown",
      "metadata": {
        "id": "70g7Rl1mc9jG"
      },
      "source": [
        "## 나의 궁금증 실험\n",
        "\n",
        "n_neighbors = 3 이어서 예측이 좀 부정확하다고 생각이 들지 않을까? \n",
        "\n",
        "적어도 5개는 봐야되지 않을까? 모델 점수를 비교해보자"
      ]
    },
    {
      "cell_type": "code",
      "metadata": {
        "colab": {
          "base_uri": "https://localhost:8080/"
        },
        "id": "oGh903kSdKuc",
        "outputId": "37e1caf3-370d-4e7b-f1b6-4761034d71af"
      },
      "source": [
        "# KNN을 이용하여 클래스를 학습시키고 예측하기\n",
        "from sklearn.neighbors import KNeighborsClassifier\n",
        "kn_n5 = KNeighborsClassifier(n_neighbors = 5)\n",
        "# 클래스 kn을 학습\n",
        "kn_n5.fit(train_scaled,train_target)\n",
        "print(kn_n5.score(train_scaled, train_target))\n",
        "print(kn_n5.score(test_scaled, test_target))"
      ],
      "execution_count": null,
      "outputs": [
        {
          "output_type": "stream",
          "text": [
            "0.7983193277310925\n",
            "0.85\n"
          ],
          "name": "stdout"
        },
        {
          "output_type": "stream",
          "text": [
            "/usr/local/lib/python3.7/dist-packages/ipykernel_launcher.py:5: DataConversionWarning: A column-vector y was passed when a 1d array was expected. Please change the shape of y to (n_samples, ), for example using ravel().\n",
            "  \"\"\"\n"
          ],
          "name": "stderr"
        }
      ]
    },
    {
      "cell_type": "markdown",
      "metadata": {
        "id": "Go21t-JrdTFD"
      },
      "source": [
        "n_neighbors 가 5인 경우에는 과소적합되었다.\n",
        "\n",
        "그렇다면 10은?"
      ]
    },
    {
      "cell_type": "code",
      "metadata": {
        "colab": {
          "base_uri": "https://localhost:8080/"
        },
        "id": "cWmjAp66dY6r",
        "outputId": "4e5a2500-e2ce-464e-f411-df69dfa0a27a"
      },
      "source": [
        "# KNN을 이용하여 클래스를 학습시키고 예측하기\n",
        "from sklearn.neighbors import KNeighborsClassifier\n",
        "kn_n10 = KNeighborsClassifier(n_neighbors = 10)\n",
        "# 클래스 kn을 학습\n",
        "kn_n10.fit(train_scaled,train_target)\n",
        "print(kn_n10.score(train_scaled, train_target))\n",
        "print(kn_n10.score(test_scaled, test_target))"
      ],
      "execution_count": null,
      "outputs": [
        {
          "output_type": "stream",
          "text": [
            "0.7563025210084033\n",
            "0.8\n"
          ],
          "name": "stdout"
        },
        {
          "output_type": "stream",
          "text": [
            "/usr/local/lib/python3.7/dist-packages/ipykernel_launcher.py:5: DataConversionWarning: A column-vector y was passed when a 1d array was expected. Please change the shape of y to (n_samples, ), for example using ravel().\n",
            "  \"\"\"\n"
          ],
          "name": "stderr"
        }
      ]
    },
    {
      "cell_type": "markdown",
      "metadata": {
        "id": "u3MvzA4idhtp"
      },
      "source": [
        "힌트가 되는 이웃수가 더 많아질수록 정확도가 떨어지고 과소적합되는 경향을 보인다.\n",
        "\n",
        "직접 그래프를 그려 확인해보자"
      ]
    },
    {
      "cell_type": "code",
      "metadata": {
        "colab": {
          "base_uri": "https://localhost:8080/",
          "height": 968
        },
        "id": "pL7x-fRVdtaD",
        "outputId": "d13e8d7e-b230-4bf4-adea-2f3d2f3a283d"
      },
      "source": [
        "import matplotlib.pyplot as plt\n",
        "train_score = []\n",
        "test_score = []\n",
        "\n",
        "n_list = range(1,20)\n",
        "for n in n_list:\n",
        "  kn = KNeighborsClassifier(n_neighbors = n)\n",
        "  kn.fit(train_scaled, train_target)\n",
        "  train_score.append(kn.score(train_scaled, train_target))\n",
        "  test_score.append(kn.score(test_scaled, test_target))\n",
        "\n",
        "plt.plot(n_list, np.round(train_score,2))\n",
        "plt.plot(n_list, np.round(test_score,2))\n",
        "plt.xlabel('Number of Neighbors')\n",
        "plt.xticks(np.arange(1,20))\n",
        "plt.ylabel('score')\n",
        "plt.show()"
      ],
      "execution_count": null,
      "outputs": [
        {
          "output_type": "stream",
          "text": [
            "/usr/local/lib/python3.7/dist-packages/ipykernel_launcher.py:8: DataConversionWarning: A column-vector y was passed when a 1d array was expected. Please change the shape of y to (n_samples, ), for example using ravel().\n",
            "  \n",
            "/usr/local/lib/python3.7/dist-packages/ipykernel_launcher.py:8: DataConversionWarning: A column-vector y was passed when a 1d array was expected. Please change the shape of y to (n_samples, ), for example using ravel().\n",
            "  \n",
            "/usr/local/lib/python3.7/dist-packages/ipykernel_launcher.py:8: DataConversionWarning: A column-vector y was passed when a 1d array was expected. Please change the shape of y to (n_samples, ), for example using ravel().\n",
            "  \n",
            "/usr/local/lib/python3.7/dist-packages/ipykernel_launcher.py:8: DataConversionWarning: A column-vector y was passed when a 1d array was expected. Please change the shape of y to (n_samples, ), for example using ravel().\n",
            "  \n",
            "/usr/local/lib/python3.7/dist-packages/ipykernel_launcher.py:8: DataConversionWarning: A column-vector y was passed when a 1d array was expected. Please change the shape of y to (n_samples, ), for example using ravel().\n",
            "  \n",
            "/usr/local/lib/python3.7/dist-packages/ipykernel_launcher.py:8: DataConversionWarning: A column-vector y was passed when a 1d array was expected. Please change the shape of y to (n_samples, ), for example using ravel().\n",
            "  \n",
            "/usr/local/lib/python3.7/dist-packages/ipykernel_launcher.py:8: DataConversionWarning: A column-vector y was passed when a 1d array was expected. Please change the shape of y to (n_samples, ), for example using ravel().\n",
            "  \n",
            "/usr/local/lib/python3.7/dist-packages/ipykernel_launcher.py:8: DataConversionWarning: A column-vector y was passed when a 1d array was expected. Please change the shape of y to (n_samples, ), for example using ravel().\n",
            "  \n",
            "/usr/local/lib/python3.7/dist-packages/ipykernel_launcher.py:8: DataConversionWarning: A column-vector y was passed when a 1d array was expected. Please change the shape of y to (n_samples, ), for example using ravel().\n",
            "  \n",
            "/usr/local/lib/python3.7/dist-packages/ipykernel_launcher.py:8: DataConversionWarning: A column-vector y was passed when a 1d array was expected. Please change the shape of y to (n_samples, ), for example using ravel().\n",
            "  \n",
            "/usr/local/lib/python3.7/dist-packages/ipykernel_launcher.py:8: DataConversionWarning: A column-vector y was passed when a 1d array was expected. Please change the shape of y to (n_samples, ), for example using ravel().\n",
            "  \n",
            "/usr/local/lib/python3.7/dist-packages/ipykernel_launcher.py:8: DataConversionWarning: A column-vector y was passed when a 1d array was expected. Please change the shape of y to (n_samples, ), for example using ravel().\n",
            "  \n",
            "/usr/local/lib/python3.7/dist-packages/ipykernel_launcher.py:8: DataConversionWarning: A column-vector y was passed when a 1d array was expected. Please change the shape of y to (n_samples, ), for example using ravel().\n",
            "  \n",
            "/usr/local/lib/python3.7/dist-packages/ipykernel_launcher.py:8: DataConversionWarning: A column-vector y was passed when a 1d array was expected. Please change the shape of y to (n_samples, ), for example using ravel().\n",
            "  \n",
            "/usr/local/lib/python3.7/dist-packages/ipykernel_launcher.py:8: DataConversionWarning: A column-vector y was passed when a 1d array was expected. Please change the shape of y to (n_samples, ), for example using ravel().\n",
            "  \n",
            "/usr/local/lib/python3.7/dist-packages/ipykernel_launcher.py:8: DataConversionWarning: A column-vector y was passed when a 1d array was expected. Please change the shape of y to (n_samples, ), for example using ravel().\n",
            "  \n",
            "/usr/local/lib/python3.7/dist-packages/ipykernel_launcher.py:8: DataConversionWarning: A column-vector y was passed when a 1d array was expected. Please change the shape of y to (n_samples, ), for example using ravel().\n",
            "  \n",
            "/usr/local/lib/python3.7/dist-packages/ipykernel_launcher.py:8: DataConversionWarning: A column-vector y was passed when a 1d array was expected. Please change the shape of y to (n_samples, ), for example using ravel().\n",
            "  \n",
            "/usr/local/lib/python3.7/dist-packages/ipykernel_launcher.py:8: DataConversionWarning: A column-vector y was passed when a 1d array was expected. Please change the shape of y to (n_samples, ), for example using ravel().\n",
            "  \n"
          ],
          "name": "stderr"
        },
        {
          "output_type": "display_data",
          "data": {
            "image/png": "[encoded data removed]",
            "text/plain": [
              "<Figure size 432x288 with 1 Axes>"
            ]
          },
          "metadata": {
            "tags": [],
            "needs_background": "light"
          }
        }
      ]
    },
    {
      "cell_type": "markdown",
      "metadata": {
        "id": "oYVXSE1efPqx"
      },
      "source": [
        "이웃수가 많아지면 예측 정확도가 떨어지고 과소적합되는것을 확인!"
      ]
    },
    {
      "cell_type": "markdown",
      "metadata": {
        "id": "x19e7SNHgidd"
      },
      "source": [
        "# 로지스틱 회귀 (Logisitic Regression)\n",
        " \n",
        "지금의 문제를 로지스틱 회귀를 통해 풀어보자. \n",
        "\n",
        "(머신러닝은 다양한 모델을 활용 비교하여 성능이 좋은 모델을 선택해야 함)"
      ]
    },
    {
      "cell_type": "markdown",
      "metadata": {
        "id": "yx-mH2u4g_Tu"
      },
      "source": [
        "로지스틱 회귀는 다음과 같은 선형 방정식을 학습한다\n",
        "\n",
        "$z = a \\times (Weight) + b \\times (Length) + c \\times (Diagonal) + d \\times (Height) + e \\times (Width) + f$\n",
        "\n",
        "이 식에서 $z$는 어떤 값도 될 수 있다. \n",
        "\n",
        "그러나, $z$ 는 확률이기 때문에 $ 0~1$ 의 값이 되어야 한다. \n",
        "\n",
        "이 문제는 **시그모이드(sigmoid) 함수** 를 통해 해결이 가능하다.\n",
        "\n",
        "## $\\theta =  \\frac{\\mathrm{1} }{\\mathrm{1} + e^{-z} }$\n"
      ]
    },
    {
      "cell_type": "code",
      "metadata": {
        "colab": {
          "base_uri": "https://localhost:8080/",
          "height": 295
        },
        "id": "CtLu8TK3hvyP",
        "outputId": "bae0a504-3cc5-480e-a7e8-77e6ca034be3"
      },
      "source": [
        "# 시그모이드 함수 그리기\n",
        "z = np.arange(-5,5,0.1)\n",
        "phi = 1 / (1 + np.exp(-z))\n",
        "plt.plot(z,phi)\n",
        "plt.xlabel('z')\n",
        "plt.ylabel('phi')\n",
        "plt.title('Sigmoid Function')\n",
        "plt.show()"
      ],
      "execution_count": null,
      "outputs": [
        {
          "output_type": "display_data",
          "data": {
            "image/png": "[encoded data removed]",
            "text/plain": [
              "<Figure size 432x288 with 1 Axes>"
            ]
          },
          "metadata": {
            "tags": [],
            "needs_background": "light"
          }
        }
      ]
    },
    {
      "cell_type": "markdown",
      "metadata": {
        "id": "pOaer9lzhvu6"
      },
      "source": [
        "로지스틱 회귀 모델에서는 0.5를 기준으로 0.5 보다 크면 **양성 클래스**, 0.5 보다 작으면 **음성 클래스**로 분류한다."
      ]
    },
    {
      "cell_type": "markdown",
      "metadata": {
        "id": "ZKAgm9U1hsi6"
      },
      "source": [
        "### 로지스틱 회귀로 이진 분류 수행하기"
      ]
    },
    {
      "cell_type": "code",
      "metadata": {
        "id": "T_f54A9glvf_"
      },
      "source": [
        "# train dataset에서 도미(Bream)와 빙어(Smelt)행 골라내기\n",
        "bream_smelt_indexes = (train_target == 'Bream') | (train_target == 'Smelt')\n",
        "train_bream_smelt = train_scaled[bream_smelt_indexes]\n",
        "target_bream_smelt = train_target[bream_smelt_indexes]"
      ],
      "execution_count": null,
      "outputs": []
    },
    {
      "cell_type": "code",
      "metadata": {
        "colab": {
          "base_uri": "https://localhost:8080/"
        },
        "id": "0qRvFT6aozK2",
        "outputId": "3e8e5849-3f4a-42c8-c765-d9d809e78f0f"
      },
      "source": [
        "# 로지스틱 회귀 모델에 데이터 학습시키기\n",
        "from sklearn.linear_model import LogisticRegression\n",
        "lr = LogisticRegression()\n",
        "lr.fit(train_bream_smelt, target_bream_smelt)"
      ],
      "execution_count": null,
      "outputs": [
        {
          "output_type": "execute_result",
          "data": {
            "text/plain": [
              "LogisticRegression(C=1.0, class_weight=None, dual=False, fit_intercept=True,\n",
              "                   intercept_scaling=1, l1_ratio=None, max_iter=100,\n",
              "                   multi_class='auto', n_jobs=None, penalty='l2',\n",
              "                   random_state=None, solver='lbfgs', tol=0.0001, verbose=0,\n",
              "                   warm_start=False)"
            ]
          },
          "metadata": {
            "tags": []
          },
          "execution_count": 159
        }
      ]
    },
    {
      "cell_type": "code",
      "metadata": {
        "colab": {
          "base_uri": "https://localhost:8080/"
        },
        "id": "Sp5eRSnvq8a6",
        "outputId": "3d9bf4fe-ae0c-4aa9-f705-b0dccae1f0bf"
      },
      "source": [
        "# 모델 예측값과 확률 확인하기\n",
        "print(lr.predict(train_bream_smelt[:5]))"
      ],
      "execution_count": null,
      "outputs": [
        {
          "output_type": "stream",
          "text": [
            "['Bream' 'Smelt' 'Bream' 'Bream' 'Bream']\n"
          ],
          "name": "stdout"
        }
      ]
    },
    {
      "cell_type": "code",
      "metadata": {
        "colab": {
          "base_uri": "https://localhost:8080/"
        },
        "id": "VNkoPIt6rckO",
        "outputId": "355f97fe-f9cb-43aa-ccb2-d282466ed110"
      },
      "source": [
        "print(lr.predict_proba(train_bream_smelt[:5]))"
      ],
      "execution_count": null,
      "outputs": [
        {
          "output_type": "stream",
          "text": [
            "[[0.99759855 0.00240145]\n",
            " [0.02735183 0.97264817]\n",
            " [0.99486072 0.00513928]\n",
            " [0.98584202 0.01415798]\n",
            " [0.99767269 0.00232731]]\n"
          ],
          "name": "stdout"
        }
      ]
    },
    {
      "cell_type": "code",
      "metadata": {
        "colab": {
          "base_uri": "https://localhost:8080/"
        },
        "id": "yVA5WHmirtQO",
        "outputId": "9b8933e6-ac18-42f7-f79a-926cd0e5b81f"
      },
      "source": [
        "# 음성 클래스와 양성 클래스 확인하기\n",
        "# 음성: Bream / 양성: Smelt\n",
        "print(lr.classes_)"
      ],
      "execution_count": null,
      "outputs": [
        {
          "output_type": "stream",
          "text": [
            "['Bream' 'Smelt']\n"
          ],
          "name": "stdout"
        }
      ]
    },
    {
      "cell_type": "code",
      "metadata": {
        "colab": {
          "base_uri": "https://localhost:8080/"
        },
        "id": "ZxPx8d4Yr6el",
        "outputId": "1d7db65d-32c0-467b-9751-2881b063643c"
      },
      "source": [
        "# 학습된 로지스틱 회귀 모델의 계수 확인\n",
        "print(lr.coef_,lr.intercept_)"
      ],
      "execution_count": null,
      "outputs": [
        {
          "output_type": "stream",
          "text": [
            "[[-0.4037798  -0.57620209 -0.66280298 -1.01290277 -0.73168947]] [-2.16155132]\n"
          ],
          "name": "stdout"
        }
      ]
    },
    {
      "cell_type": "markdown",
      "metadata": {
        "id": "GwtXsutHsF8K"
      },
      "source": [
        "위의 계수를 통해 정리하면 아래의 식과 같다.\n",
        "\n",
        "$z = -0.404 \\times (Weight) - 0.576 \\times (Length) - 0.663 \\times (Diagonal) - 1.013 \\times (Height) - 0.732 \\times (Width) - 2.161$"
      ]
    },
    {
      "cell_type": "code",
      "metadata": {
        "id": "DpztL_HFshga",
        "colab": {
          "base_uri": "https://localhost:8080/"
        },
        "outputId": "6f9e4b44-bbf1-410e-c994-2c9ce9086bab"
      },
      "source": [
        "# 위의 식을 활용해 z값 계산하기\n",
        "decisions = lr.decision_function(train_bream_smelt[:5])\n",
        "print(decisions)"
      ],
      "execution_count": null,
      "outputs": [
        {
          "output_type": "stream",
          "text": [
            "[-6.02927744  3.57123907 -5.26568906 -4.24321775 -6.0607117 ]\n"
          ],
          "name": "stdout"
        }
      ]
    },
    {
      "cell_type": "code",
      "metadata": {
        "colab": {
          "base_uri": "https://localhost:8080/"
        },
        "id": "VbxgD2g0s5ZQ",
        "outputId": "9f15683b-2747-4b6f-f3b6-b5ee5a3643dc"
      },
      "source": [
        "# z값을 활용하여 확률 계산해보기\n",
        "# 1. expit를 활용하여 계산\n",
        "from scipy.special import expit\n",
        "print(expit(decisions))"
      ],
      "execution_count": null,
      "outputs": [
        {
          "output_type": "stream",
          "text": [
            "[0.00240145 0.97264817 0.00513928 0.01415798 0.00232731]\n"
          ],
          "name": "stdout"
        }
      ]
    },
    {
      "cell_type": "code",
      "metadata": {
        "colab": {
          "base_uri": "https://localhost:8080/"
        },
        "id": "XpbI666etbog",
        "outputId": "8fc65b84-f363-4a32-9a40-7309a179429f"
      },
      "source": [
        "# 2. 수식을 직접 이용하여 계산하기\n",
        "# phi = 1 / (1 + np.exp(-z))\n",
        "prob_z = []\n",
        "for i in range(5):\n",
        " prob_z.append(1/(1+np.exp(-decisions[i])))\n",
        "\n",
        "print(prob_z)"
      ],
      "execution_count": null,
      "outputs": [
        {
          "output_type": "stream",
          "text": [
            "[0.0024014518780479588, 0.9726481722467774, 0.005139283545591795, 0.014157979296024102, 0.0023273110833360515]\n"
          ],
          "name": "stdout"
        }
      ]
    },
    {
      "cell_type": "markdown",
      "metadata": {
        "id": "6x3tTxtXt3sH"
      },
      "source": [
        "### 로지스틱 회귀로 다중분류 하기\n",
        "\n",
        "LogisitcRegression 클래스는 기본적으로 반복적인 알고리즘을 사용한다.\n",
        "\n",
        "max_iter의 default는 100.\n",
        "\n",
        "또, 기본적으로 릿지 회귀와 같이 계수의 제곱을 규제한다. \n",
        "\n",
        "이런 규제를 L2 규제라고도 하는데, 릿지 회귀에서는 $\\alpha$ 값을 조절해 규제의 양을 조절했으나 LogisitcRegression에서는 $C$ 값으로 규제를 조절한다.\n",
        "\n",
        "$C$ 값이 작을수록 규제가 커진다."
      ]
    },
    {
      "cell_type": "code",
      "metadata": {
        "colab": {
          "base_uri": "https://localhost:8080/"
        },
        "id": "DBrLWM-wuGsW",
        "outputId": "f3e8ca96-c461-4537-c3f5-09fc3613cecc"
      },
      "source": [
        "# L2 규제를 완화하고, 반복수를 1000으로 늘린 모델을 학습시키고 정확도 계산\n",
        "lr = LogisticRegression(C=20, max_iter=1000)\n",
        "lr.fit(train_scaled, train_target)\n",
        "print(lr.score(train_scaled, train_target))\n",
        "print(lr.score(test_scaled, test_target))"
      ],
      "execution_count": null,
      "outputs": [
        {
          "output_type": "stream",
          "text": [
            "0.9327731092436975\n",
            "0.925\n"
          ],
          "name": "stdout"
        }
      ]
    },
    {
      "cell_type": "code",
      "metadata": {
        "colab": {
          "base_uri": "https://localhost:8080/"
        },
        "id": "zHDnOsjEvHrN",
        "outputId": "74f6f0c1-8d7f-477c-bf63-0456e5c50357"
      },
      "source": [
        "# 테스트데이터로 예측해보기\n",
        "print(lr.predict(test_scaled[:5]))"
      ],
      "execution_count": null,
      "outputs": [
        {
          "output_type": "stream",
          "text": [
            "['Perch' 'Smelt' 'Pike' 'Roach' 'Perch']\n"
          ],
          "name": "stdout"
        }
      ]
    },
    {
      "cell_type": "code",
      "metadata": {
        "colab": {
          "base_uri": "https://localhost:8080/"
        },
        "id": "4aOsThOwvQjh",
        "outputId": "8d403b1b-e75f-4a30-8de2-142f90b86254"
      },
      "source": [
        "# 테스트데이터 예측 확률 보기\n",
        "proba = lr.predict_proba(test_scaled[:5])\n",
        "print(np.round(proba,decimals=3))"
      ],
      "execution_count": null,
      "outputs": [
        {
          "output_type": "stream",
          "text": [
            "[[0.    0.014 0.841 0.    0.136 0.007 0.003]\n",
            " [0.    0.003 0.044 0.    0.007 0.946 0.   ]\n",
            " [0.    0.    0.034 0.935 0.015 0.016 0.   ]\n",
            " [0.011 0.034 0.306 0.007 0.567 0.    0.076]\n",
            " [0.    0.    0.904 0.002 0.089 0.002 0.001]]\n"
          ],
          "name": "stdout"
        }
      ]
    },
    {
      "cell_type": "code",
      "metadata": {
        "colab": {
          "base_uri": "https://localhost:8080/"
        },
        "id": "omZiIEhovqBe",
        "outputId": "a170eb7e-1036-4201-943e-89e4f820fe3c"
      },
      "source": [
        "# lr 클래스 정보 확인\n",
        "print(lr.classes_)"
      ],
      "execution_count": null,
      "outputs": [
        {
          "output_type": "stream",
          "text": [
            "['Bream' 'Parkki' 'Perch' 'Pike' 'Roach' 'Smelt' 'Whitefish']\n"
          ],
          "name": "stdout"
        }
      ]
    },
    {
      "cell_type": "code",
      "metadata": {
        "colab": {
          "base_uri": "https://localhost:8080/"
        },
        "id": "QmIDDsDrvzm6",
        "outputId": "6afd15f1-0976-4c2d-91c5-921fd0d4e614"
      },
      "source": [
        "# 다중분류 모델의 계수를 직접확인하고 크기 출력\n",
        "print(lr.coef_, lr.intercept_)\n",
        "print(lr.coef_.shape, lr.intercept_.shape)"
      ],
      "execution_count": null,
      "outputs": [
        {
          "output_type": "stream",
          "text": [
            "[[-1.49002911 -1.02919221  2.59351113  7.70354318 -1.20068079]\n",
            " [ 0.19619256 -2.0106062  -3.77982687  6.50490143 -1.99486463]\n",
            " [ 3.56278472  6.34361428 -8.48973364 -5.75756295  3.79309039]\n",
            " [-0.10458533  3.60316654  3.93067417 -3.61731229 -1.75070607]\n",
            " [-1.40059104 -6.07505264  5.25967743 -0.87222909  1.86043657]\n",
            " [-1.38528628  1.49217379  1.3922839  -5.67732641 -4.40095877]\n",
            " [ 0.62151448 -2.32410356 -0.90658611  1.71598614  3.69368329]] [-0.09204845 -0.26290731  3.25101057 -0.14742485  2.65496057 -6.78780765\n",
            "  1.38421712]\n",
            "(7, 5) (7,)\n"
          ],
          "name": "stdout"
        }
      ]
    },
    {
      "cell_type": "markdown",
      "metadata": {
        "id": "OUW2UTjYv_FM"
      },
      "source": [
        "coef_ 배열의 행과 열은 각각 7개 5개이고\n",
        "\n",
        "intercept_의 배열도 행은 7개.\n",
        "\n",
        "다중분류에서는 시그모이드 함수가 아닌 **소프트맥스(softmax)** 함수를 사용해 7 개의 $z$값을 확률로 변환한다."
      ]
    },
    {
      "cell_type": "markdown",
      "metadata": {
        "id": "1vKZLuAgxgDb"
      },
      "source": [
        "### 소프트맥스 함수란??\n",
        "\n",
        "시그모이드 함수는 **하나**의 선형방정식의 출력값을 0~1 사이 값으로 출력함.\n",
        "\n",
        "소프트맥스 함수는 **여러개**의 선형방정식의 출력값을 0~1 사이로 압축하고 전체 합이 1이 되도록 만든다.\n",
        "\n",
        "이를 위해 지수함수를 사용하기 때문에 **정규화된 지수 함수** 라고도 한다.\n",
        "\n"
      ]
    },
    {
      "cell_type": "markdown",
      "metadata": {
        "id": "darXV5GxyBCA"
      },
      "source": [
        "소프트맥스 함수 정의하기\n",
        "\n",
        "1) 먼저 7개의 z값의 이름을 z1에서 z7 까지 붙인다.\n",
        "\n",
        "2) $z1$ ~ $z7$ 까지의 값을 사용해 지수 함수 $e^{z1}$ ~ $e^{z7}$ 을 계싼해 모두 더한다.\n",
        "\n",
        "3) 이를 $e$_$sum$이라고 한다.\n",
        "\n",
        "> $e$_$sum$ $= e^{z1}+e^{z2}+e^{z3}+e^{z4}+e^{z5}+e^{z6}+e^{z7}$\n",
        "\n",
        "4) 그 다음 $e^{z1}$ ~ $e^{z7}$ 을 $e$_$sum$ 으로 나누어 준다.\n",
        "\n",
        "> $s1 =  \\frac{e^{z1}}{e\\_sum}$, $s2 =  \\frac{e^{z2}}{e\\_sum}$, $\\cdots$, $s7 =  \\frac{e^{z7}}{e\\_sum}$ \n",
        "\n",
        "5) $s1$ 에서 $s7$ 까지 모두 더하면 분자와 분모가 같아지므로 1이 된다."
      ]
    },
    {
      "cell_type": "code",
      "metadata": {
        "id": "mqc3_5vDyWFj",
        "colab": {
          "base_uri": "https://localhost:8080/"
        },
        "outputId": "01a393a9-ae6b-42cb-e8ef-208969c9a376"
      },
      "source": [
        "# decision_function() 메서드로 z1~ z7 값을 구한다음 소프트맥스 함수를 사용해 바꿔보자\n",
        "decision = lr.decision_function(test_scaled[:5])\n",
        "print(np.round(decision,decimals=2))"
      ],
      "execution_count": null,
      "outputs": [
        {
          "output_type": "stream",
          "text": [
            "[[ -6.5    1.03   5.16  -2.73   3.34   0.33  -0.63]\n",
            " [-10.86   1.93   4.77  -2.4    2.98   7.84  -4.26]\n",
            " [ -4.34  -6.23   3.17   6.49   2.36   2.42  -3.87]\n",
            " [ -0.68   0.45   2.65  -1.19   3.26  -5.75   1.26]\n",
            " [ -6.4   -1.99   5.82  -0.11   3.5   -0.11  -0.71]]\n"
          ],
          "name": "stdout"
        }
      ]
    },
    {
      "cell_type": "code",
      "metadata": {
        "colab": {
          "base_uri": "https://localhost:8080/"
        },
        "id": "baNgBzcV73uy",
        "outputId": "361d9e35-8895-4280-edd8-d039fdf8fa79"
      },
      "source": [
        "# scipy 패키지에서 softmax 함수를 제공함.\n",
        "# softmax() 함수의 axis를 1로 지정하여 각 행, 각 샘픔에 대한 소프트맥스 값을 계산\n",
        "# 지정해주지 않은 경우, 배열 전체에 대한 소프트맥스를 계산함\n",
        "from scipy.special import softmax\n",
        "proba = softmax(decision, axis = 1)\n",
        "print(np.round(proba, decimals = 3))"
      ],
      "execution_count": null,
      "outputs": [
        {
          "output_type": "stream",
          "text": [
            "[[0.    0.014 0.841 0.    0.136 0.007 0.003]\n",
            " [0.    0.003 0.044 0.    0.007 0.946 0.   ]\n",
            " [0.    0.    0.034 0.935 0.015 0.016 0.   ]\n",
            " [0.011 0.034 0.306 0.007 0.567 0.    0.076]\n",
            " [0.    0.    0.904 0.002 0.089 0.002 0.001]]\n"
          ],
          "name": "stdout"
        }
      ]
    },
    {
      "cell_type": "code",
      "metadata": {
        "id": "BPNt9bjR8Jyx"
      },
      "source": [
        ""
      ],
      "execution_count": null,
      "outputs": []
    }
  ]
}